{
 "cells": [
  {
   "attachments": {},
   "cell_type": "markdown",
   "metadata": {},
   "source": [
    "### Step 5. Topic Modeling of Submissions"
   ]
  },
  {
   "attachments": {},
   "cell_type": "markdown",
   "metadata": {},
   "source": [
    "#### Import required libraries and read submissions csv into a Pandas dataframe"
   ]
  },
  {
   "cell_type": "code",
   "execution_count": 1,
   "metadata": {},
   "outputs": [],
   "source": [
    "import pandas as pd\n",
    "from datasets import Dataset\n",
    "import nltk, re\n",
    "from bertopic import BERTopic\n",
    "from bertopic.representation import MaximalMarginalRelevance\n",
    "from sentence_transformers import SentenceTransformer\n"
   ]
  },
  {
   "cell_type": "code",
   "execution_count": 2,
   "metadata": {},
   "outputs": [],
   "source": [
    "tfcc_data = pd.read_csv('tfcc_submissions_neg1_topics.csv')"
   ]
  },
  {
   "cell_type": "code",
   "execution_count": null,
   "metadata": {},
   "outputs": [],
   "source": [
    "#### Import libraries for "
   ]
  },
  {
   "cell_type": "code",
   "execution_count": 3,
   "metadata": {},
   "outputs": [
    {
     "name": "stderr",
     "output_type": "stream",
     "text": [
      "[nltk_data] Downloading package punkt to /home/steve/nltk_data...\n",
      "[nltk_data]   Package punkt is already up-to-date!\n",
      "[nltk_data] Downloading package stopwords to /home/steve/nltk_data...\n",
      "[nltk_data]   Package stopwords is already up-to-date!\n",
      "[nltk_data] Downloading package wordnet to /home/steve/nltk_data...\n",
      "[nltk_data]   Package wordnet is already up-to-date!\n",
      "[nltk_data] Downloading package omw-1.4 to /home/steve/nltk_data...\n",
      "[nltk_data]   Package omw-1.4 is already up-to-date!\n"
     ]
    },
    {
     "data": {
      "text/plain": [
       "True"
      ]
     },
     "execution_count": 3,
     "metadata": {},
     "output_type": "execute_result"
    }
   ],
   "source": [
    "\n",
    "from nltk.corpus import stopwords\n",
    "from nltk.stem import PorterStemmer\n",
    "from nltk.tokenize import word_tokenize, sent_tokenize\n",
    "from nltk.tokenize import RegexpTokenizer\n",
    "from nltk.stem.wordnet import WordNetLemmatizer\n",
    "\n",
    "from collections import Counter\n",
    "from nltk.util import ngrams\n",
    "nltk.download('punkt')\n",
    "nltk.download('stopwords')\n",
    "nltk.download('wordnet')\n",
    "nltk.download('omw-1.4')\n",
    "\n",
    "#Sentiment\n",
    "#nltk.download('vader_lexicon')\n",
    "\n",
    "#Creating requency distribution\n",
    "#from nltk.probability import FreqDist\n",
    "\n",
    "#from nltk.sentiment import SentimentIntensityAnalyzer\n",
    "\n",
    "#import plotly.express as px\n",
    "#import matplotlib.pyplot as plt\n",
    "#from matplotlib.pyplot import pie, axis, show\n",
    "#import seaborn as sns"
   ]
  },
  {
   "attachments": {},
   "cell_type": "markdown",
   "metadata": {},
   "source": [
    "#### Setup stop words and add additional words relevant to the subreddit (these can be found through the first one or two passes of topic modeling and may require some trial and error to identify)\n",
    "\n",
    "Note: Remove work, time, day from stop words for first pass.  Add back in when running for -1 topic"
   ]
  },
  {
   "cell_type": "code",
   "execution_count": 4,
   "metadata": {},
   "outputs": [
    {
     "name": "stdout",
     "output_type": "stream",
     "text": [
      "191\n"
     ]
    }
   ],
   "source": [
    "stop_words = stopwords.words('english')\n",
    "stop_words.extend(['call', 'customer', 'phone', 'company', 'caller', 'account', 'calls','center','x200b', 'work', 'time', 'day'])\n",
    "\n",
    "print(len(stop_words))"
   ]
  },
  {
   "attachments": {},
   "cell_type": "markdown",
   "metadata": {},
   "source": [
    "#### Convert text to lower case, tokenize self text field, remove stop words, lemmatize tokens"
   ]
  },
  {
   "cell_type": "code",
   "execution_count": 5,
   "metadata": {},
   "outputs": [],
   "source": [
    "data = tfcc_data"
   ]
  },
  {
   "cell_type": "code",
   "execution_count": 6,
   "metadata": {},
   "outputs": [
    {
     "data": {
      "text/html": [
       "<div>\n",
       "<style scoped>\n",
       "    .dataframe tbody tr th:only-of-type {\n",
       "        vertical-align: middle;\n",
       "    }\n",
       "\n",
       "    .dataframe tbody tr th {\n",
       "        vertical-align: top;\n",
       "    }\n",
       "\n",
       "    .dataframe thead th {\n",
       "        text-align: right;\n",
       "    }\n",
       "</style>\n",
       "<table border=\"1\" class=\"dataframe\">\n",
       "  <thead>\n",
       "    <tr style=\"text-align: right;\">\n",
       "      <th></th>\n",
       "      <th>id</th>\n",
       "      <th>title</th>\n",
       "      <th>selftext</th>\n",
       "      <th>author</th>\n",
       "      <th>score</th>\n",
       "      <th>num_comments</th>\n",
       "      <th>created_date</th>\n",
       "      <th>selftext_length</th>\n",
       "      <th>tokens</th>\n",
       "      <th>lemmatized</th>\n",
       "      <th>topic</th>\n",
       "    </tr>\n",
       "  </thead>\n",
       "  <tbody>\n",
       "    <tr>\n",
       "      <th>0</th>\n",
       "      <td>yc4bm</td>\n",
       "      <td>No brain, No pain.</td>\n",
       "      <td>i swear that convergys will hire any moron tha...</td>\n",
       "      <td>[deleted]</td>\n",
       "      <td>28</td>\n",
       "      <td>10</td>\n",
       "      <td>2012-08-16 19:38:03</td>\n",
       "      <td>218</td>\n",
       "      <td>swear convergys hire moron walk door keep bodi...</td>\n",
       "      <td>swear convergys hire moron walk door keep bodi...</td>\n",
       "      <td>-1</td>\n",
       "    </tr>\n",
       "    <tr>\n",
       "      <th>1</th>\n",
       "      <td>yamv8</td>\n",
       "      <td>\"how fast does your modems go ?</td>\n",
       "      <td>starting off the awesome subreddit\\n\\ni used t...</td>\n",
       "      <td>[deleted]</td>\n",
       "      <td>34</td>\n",
       "      <td>4</td>\n",
       "      <td>2012-08-16 01:24:57</td>\n",
       "      <td>200</td>\n",
       "      <td>starting awesome subreddit used tech support g...</td>\n",
       "      <td>starting awesome subreddit used tech support g...</td>\n",
       "      <td>-1</td>\n",
       "    </tr>\n",
       "    <tr>\n",
       "      <th>2</th>\n",
       "      <td>ymjc0</td>\n",
       "      <td>Tech support agent, and yet I can't touch my c...</td>\n",
       "      <td>at my work we are not allowed to adjust the mo...</td>\n",
       "      <td>hanzors</td>\n",
       "      <td>40</td>\n",
       "      <td>19</td>\n",
       "      <td>2012-08-22 06:27:29</td>\n",
       "      <td>104</td>\n",
       "      <td>allowed adjust monitors plug cables anything t...</td>\n",
       "      <td>allowed adjust monitors plug cables anything t...</td>\n",
       "      <td>-1</td>\n",
       "    </tr>\n",
       "    <tr>\n",
       "      <th>3</th>\n",
       "      <td>yqy54</td>\n",
       "      <td>She done did all dem tings</td>\n",
       "      <td>after spending the past week in deepest darkes...</td>\n",
       "      <td>PoglaTheGrate</td>\n",
       "      <td>15</td>\n",
       "      <td>2</td>\n",
       "      <td>2012-08-24 11:01:32</td>\n",
       "      <td>287</td>\n",
       "      <td>spending past week deepest darkest northern ns...</td>\n",
       "      <td>spending past week deepest darkest northern ns...</td>\n",
       "      <td>-1</td>\n",
       "    </tr>\n",
       "    <tr>\n",
       "      <th>4</th>\n",
       "      <td>yql1h</td>\n",
       "      <td>\"Why can't I keep my stolen cable?!?!?\"</td>\n",
       "      <td>i used to work in a 3rd party call center. one...</td>\n",
       "      <td>thisisrequired</td>\n",
       "      <td>33</td>\n",
       "      <td>6</td>\n",
       "      <td>2012-08-24 04:39:44</td>\n",
       "      <td>301</td>\n",
       "      <td>used 3rd party one campaigns calling people le...</td>\n",
       "      <td>used 3rd party one campaigns calling people le...</td>\n",
       "      <td>-1</td>\n",
       "    </tr>\n",
       "  </tbody>\n",
       "</table>\n",
       "</div>"
      ],
      "text/plain": [
       "      id                                              title  \\\n",
       "0  yc4bm                                 No brain, No pain.   \n",
       "1  yamv8                    \"how fast does your modems go ?   \n",
       "2  ymjc0  Tech support agent, and yet I can't touch my c...   \n",
       "3  yqy54                         She done did all dem tings   \n",
       "4  yql1h            \"Why can't I keep my stolen cable?!?!?\"   \n",
       "\n",
       "                                            selftext          author  score  \\\n",
       "0  i swear that convergys will hire any moron tha...       [deleted]     28   \n",
       "1  starting off the awesome subreddit\\n\\ni used t...       [deleted]     34   \n",
       "2  at my work we are not allowed to adjust the mo...         hanzors     40   \n",
       "3  after spending the past week in deepest darkes...   PoglaTheGrate     15   \n",
       "4  i used to work in a 3rd party call center. one...  thisisrequired     33   \n",
       "\n",
       "   num_comments         created_date  selftext_length  \\\n",
       "0            10  2012-08-16 19:38:03              218   \n",
       "1             4  2012-08-16 01:24:57              200   \n",
       "2            19  2012-08-22 06:27:29              104   \n",
       "3             2  2012-08-24 11:01:32              287   \n",
       "4             6  2012-08-24 04:39:44              301   \n",
       "\n",
       "                                              tokens  \\\n",
       "0  swear convergys hire moron walk door keep bodi...   \n",
       "1  starting awesome subreddit used tech support g...   \n",
       "2  allowed adjust monitors plug cables anything t...   \n",
       "3  spending past week deepest darkest northern ns...   \n",
       "4  used 3rd party one campaigns calling people le...   \n",
       "\n",
       "                                          lemmatized  topic  \n",
       "0  swear convergys hire moron walk door keep bodi...     -1  \n",
       "1  starting awesome subreddit used tech support g...     -1  \n",
       "2  allowed adjust monitors plug cables anything t...     -1  \n",
       "3  spending past week deepest darkest northern ns...     -1  \n",
       "4  used 3rd party one campaigns calling people le...     -1  "
      ]
     },
     "execution_count": 6,
     "metadata": {},
     "output_type": "execute_result"
    }
   ],
   "source": [
    "#Transforming all text to lower case\n",
    "data['selftext'] = data['selftext'].astype(str).str.lower()\n",
    "#data.head()\n",
    "\n",
    "#Tokenizing selftext\n",
    "tokenizer = RegexpTokenizer('\\w+')\n",
    "data['tokens'] = data['selftext'].apply(tokenizer.tokenize)\n",
    "#data.head()\n",
    "\n",
    "#Removning stop words using lambda\n",
    "data['tokens'] = data['tokens'].apply(lambda x: [item for item in x if item not in stop_words])\n",
    "#data.head()\n",
    "\n",
    "#Converting to a string and keeping longer than 2 chars\n",
    "data['tokens'] = data['tokens'].apply(lambda x: ' '.join([item for item in x if len(item) > 2]))\n",
    "#data.head()\n",
    "\n",
    "#Lemmatization of tokens\n",
    "lemmatizer = WordNetLemmatizer()\n",
    "data['lemmatized'] = data['tokens'].apply(lemmatizer.lemmatize)\n",
    "data.head()"
   ]
  },
  {
   "attachments": {},
   "cell_type": "markdown",
   "metadata": {},
   "source": [
    "#### Convert pandas dataframe to huggingface dataset"
   ]
  },
  {
   "cell_type": "code",
   "execution_count": 7,
   "metadata": {},
   "outputs": [],
   "source": [
    "tfcc_data = data.to_dict('list')\n",
    "    \n",
    "# Create a Hugging Face dataset from the dictionary\n",
    "dataset = Dataset.from_dict(tfcc_data)"
   ]
  },
  {
   "cell_type": "code",
   "execution_count": 8,
   "metadata": {},
   "outputs": [
    {
     "data": {
      "text/plain": [
       "Dataset({\n",
       "    features: ['id', 'title', 'selftext', 'author', 'score', 'num_comments', 'created_date', 'selftext_length', 'tokens', 'lemmatized', 'topic'],\n",
       "    num_rows: 5316\n",
       "})"
      ]
     },
     "execution_count": 8,
     "metadata": {},
     "output_type": "execute_result"
    }
   ],
   "source": [
    "dataset"
   ]
  },
  {
   "attachments": {},
   "cell_type": "markdown",
   "metadata": {},
   "source": [
    "#### Create topic model with bertopic.  This takes about 1 min a laptop with 8 GB GPU, 32 GB RAM\n",
    "\n",
    "NOTE: when running the second time for the -1 topics, update diversity to 0.4"
   ]
  },
  {
   "cell_type": "code",
   "execution_count": 9,
   "metadata": {},
   "outputs": [],
   "source": [
    "sentence_model = SentenceTransformer(\"all-MiniLM-L12-v2\")\n",
    "embeddings = sentence_model.encode(dataset[\"lemmatized\"], show_progress_bar=False)\n",
    "representation_model = MaximalMarginalRelevance(diversity=0.4)\n",
    "model = BERTopic(embedding_model=sentence_model, representation_model=representation_model)\n",
    "topics, probs = model.fit_transform(dataset['lemmatized'])"
   ]
  },
  {
   "cell_type": "code",
   "execution_count": 10,
   "metadata": {},
   "outputs": [],
   "source": [
    "model.get_topic_info()\n",
    "\n",
    "details = model.get_topic_info()"
   ]
  },
  {
   "cell_type": "markdown",
   "metadata": {},
   "source": [
    "#### Update the dataframe to include the topic number for each submission"
   ]
  },
  {
   "cell_type": "code",
   "execution_count": 11,
   "metadata": {},
   "outputs": [],
   "source": [
    "data['topic'] = topics"
   ]
  },
  {
   "cell_type": "code",
   "execution_count": 12,
   "metadata": {},
   "outputs": [
    {
     "data": {
      "text/html": [
       "<div>\n",
       "<style scoped>\n",
       "    .dataframe tbody tr th:only-of-type {\n",
       "        vertical-align: middle;\n",
       "    }\n",
       "\n",
       "    .dataframe tbody tr th {\n",
       "        vertical-align: top;\n",
       "    }\n",
       "\n",
       "    .dataframe thead th {\n",
       "        text-align: right;\n",
       "    }\n",
       "</style>\n",
       "<table border=\"1\" class=\"dataframe\">\n",
       "  <thead>\n",
       "    <tr style=\"text-align: right;\">\n",
       "      <th></th>\n",
       "      <th>Topic</th>\n",
       "      <th>Count</th>\n",
       "      <th>Name</th>\n",
       "    </tr>\n",
       "  </thead>\n",
       "  <tbody>\n",
       "    <tr>\n",
       "      <th>0</th>\n",
       "      <td>-1</td>\n",
       "      <td>3491</td>\n",
       "      <td>-1_get_need_name_service</td>\n",
       "    </tr>\n",
       "    <tr>\n",
       "      <th>1</th>\n",
       "      <td>0</td>\n",
       "      <td>165</td>\n",
       "      <td>0_name_thank_need_lady</td>\n",
       "    </tr>\n",
       "    <tr>\n",
       "      <th>2</th>\n",
       "      <td>1</td>\n",
       "      <td>119</td>\n",
       "      <td>1_support_tech_software_device</td>\n",
       "    </tr>\n",
       "    <tr>\n",
       "      <th>3</th>\n",
       "      <td>2</td>\n",
       "      <td>99</td>\n",
       "      <td>2_payments_refund_bank_card</td>\n",
       "    </tr>\n",
       "    <tr>\n",
       "      <th>4</th>\n",
       "      <td>3</td>\n",
       "      <td>89</td>\n",
       "      <td>3_insurance_claim_car_name</td>\n",
       "    </tr>\n",
       "    <tr>\n",
       "      <th>...</th>\n",
       "      <td>...</td>\n",
       "      <td>...</td>\n",
       "      <td>...</td>\n",
       "    </tr>\n",
       "    <tr>\n",
       "      <th>56</th>\n",
       "      <td>55</td>\n",
       "      <td>11</td>\n",
       "      <td>55_claims_weeks_client_pregnancy</td>\n",
       "    </tr>\n",
       "    <tr>\n",
       "      <th>57</th>\n",
       "      <td>56</td>\n",
       "      <td>11</td>\n",
       "      <td>56_prices_pandemic_milk_stores</td>\n",
       "    </tr>\n",
       "    <tr>\n",
       "      <th>58</th>\n",
       "      <td>57</td>\n",
       "      <td>11</td>\n",
       "      <td>57_code_item_tenant_marketing</td>\n",
       "    </tr>\n",
       "    <tr>\n",
       "      <th>59</th>\n",
       "      <td>58</td>\n",
       "      <td>11</td>\n",
       "      <td>58_masculine_lights_department_want</td>\n",
       "    </tr>\n",
       "    <tr>\n",
       "      <th>60</th>\n",
       "      <td>59</td>\n",
       "      <td>10</td>\n",
       "      <td>59_bus_wife_different_coupon</td>\n",
       "    </tr>\n",
       "  </tbody>\n",
       "</table>\n",
       "<p>61 rows × 3 columns</p>\n",
       "</div>"
      ],
      "text/plain": [
       "    Topic  Count                                 Name\n",
       "0      -1   3491             -1_get_need_name_service\n",
       "1       0    165               0_name_thank_need_lady\n",
       "2       1    119       1_support_tech_software_device\n",
       "3       2     99          2_payments_refund_bank_card\n",
       "4       3     89           3_insurance_claim_car_name\n",
       "..    ...    ...                                  ...\n",
       "56     55     11     55_claims_weeks_client_pregnancy\n",
       "57     56     11       56_prices_pandemic_milk_stores\n",
       "58     57     11        57_code_item_tenant_marketing\n",
       "59     58     11  58_masculine_lights_department_want\n",
       "60     59     10         59_bus_wife_different_coupon\n",
       "\n",
       "[61 rows x 3 columns]"
      ]
     },
     "execution_count": 12,
     "metadata": {},
     "output_type": "execute_result"
    }
   ],
   "source": [
    "details"
   ]
  },
  {
   "attachments": {},
   "cell_type": "markdown",
   "metadata": {},
   "source": [
    "#### There are a high number of topic -1, which are basically submissions that fall into a general category.  We'll save these to a separate CSV to look at later"
   ]
  },
  {
   "cell_type": "code",
   "execution_count": 13,
   "metadata": {},
   "outputs": [],
   "source": [
    "neg1_topic = data.loc[(data['topic'] == -1)]\n",
    "neg1_topic.to_csv('tfcc_submissions_neg1_topics.csv', index=False)"
   ]
  },
  {
   "attachments": {},
   "cell_type": "markdown",
   "metadata": {},
   "source": [
    "#### Take a look at the top 20 topics"
   ]
  },
  {
   "cell_type": "code",
   "execution_count": 13,
   "metadata": {},
   "outputs": [
    {
     "data": {
      "application/vnd.plotly.v1+json": {
       "config": {
        "plotlyServerURL": "https://plot.ly"
       },
       "data": [
        {
         "marker": {
          "color": "#D55E00"
         },
         "orientation": "h",
         "type": "bar",
         "x": [
          0.008444472073191142,
          0.008714916373838453,
          0.01156671895568619,
          0.012304579235127854,
          0.01841313784160298
         ],
         "xaxis": "x",
         "y": [
          "number  ",
          "lady  ",
          "need  ",
          "thank  ",
          "name  "
         ],
         "yaxis": "y"
        },
        {
         "marker": {
          "color": "#0072B2"
         },
         "orientation": "h",
         "type": "bar",
         "x": [
          0.010044653147252178,
          0.010249579996073744,
          0.018145615117743718,
          0.020304758636569158,
          0.02289405832358552
         ],
         "xaxis": "x2",
         "y": [
          "issue  ",
          "device  ",
          "software  ",
          "tech  ",
          "support  "
         ],
         "yaxis": "y2"
        },
        {
         "marker": {
          "color": "#CC79A7"
         },
         "orientation": "h",
         "type": "bar",
         "x": [
          0.013913583290341997,
          0.014002962115092079,
          0.018246759028820704,
          0.019215266682565783,
          0.02038115193682106
         ],
         "xaxis": "x3",
         "y": [
          "due  ",
          "card  ",
          "bank  ",
          "refund  ",
          "payments  "
         ],
         "yaxis": "y3"
        },
        {
         "marker": {
          "color": "#E69F00"
         },
         "orientation": "h",
         "type": "bar",
         "x": [
          0.00915668844821323,
          0.01026143784958182,
          0.015292278839572678,
          0.02079329839805067,
          0.035566762846751795
         ],
         "xaxis": "x4",
         "y": [
          "husband  ",
          "name  ",
          "car  ",
          "claim  ",
          "insurance  "
         ],
         "yaxis": "y4"
        },
        {
         "marker": {
          "color": "#56B4E9"
         },
         "orientation": "h",
         "type": "bar",
         "x": [
          0.010741447147865539,
          0.011036163125791414,
          0.011642375324756924,
          0.01245105583422621,
          0.014489571287906542
         ],
         "xaxis": "x5",
         "y": [
          "fucking  ",
          "payment  ",
          "people  ",
          "credit  ",
          "bill  "
         ],
         "yaxis": "y5"
        },
        {
         "marker": {
          "color": "#009E73"
         },
         "orientation": "h",
         "type": "bar",
         "x": [
          0.010861323604911545,
          0.01246648219870027,
          0.0180535315609731,
          0.019990773483163714,
          0.0217165320310277
         ],
         "xaxis": "x6",
         "y": [
          "service  ",
          "address  ",
          "order  ",
          "number  ",
          "client  "
         ],
         "yaxis": "y6"
        },
        {
         "marker": {
          "color": "#F0E442"
         },
         "orientation": "h",
         "type": "bar",
         "x": [
          0.010998489953467432,
          0.011930910974809006,
          0.012536519192009297,
          0.014646102499712883,
          0.015877767039424232
         ],
         "xaxis": "x7",
         "y": [
          "really  ",
          "centers  ",
          "life  ",
          "jobs  ",
          "feel  "
         ],
         "yaxis": "y7"
        },
        {
         "marker": {
          "color": "#D55E00"
         },
         "orientation": "h",
         "type": "bar",
         "x": [
          0.010671114321227497,
          0.012238403220878541,
          0.015066063287902191,
          0.015413513901708259,
          0.01663950039212543
         ],
         "xaxis": "x8",
         "y": [
          "pay  ",
          "like  ",
          "screaming  ",
          "service  ",
          "customers  "
         ],
         "yaxis": "y8"
        },
        {
         "marker": {
          "color": "#0072B2"
         },
         "orientation": "h",
         "type": "bar",
         "x": [
          0.01156309326892345,
          0.017312947803439088,
          0.01792827746310342,
          0.02476141324331026,
          0.025509184463461915
         ],
         "xaxis": "x9",
         "y": [
          "equipment  ",
          "isp  ",
          "credit  ",
          "amp  ",
          "service  "
         ],
         "yaxis": "y9"
        },
        {
         "marker": {
          "color": "#CC79A7"
         },
         "orientation": "h",
         "type": "bar",
         "x": [
          0.010288995317933354,
          0.013220651183851923,
          0.013441824592814707,
          0.02043105460718153,
          0.021496555607401963
         ],
         "xaxis": "x10",
         "y": [
          "name  ",
          "gbl  ",
          "harry  ",
          "chat  ",
          "amp  "
         ],
         "yaxis": "y10"
        },
        {
         "marker": {
          "color": "#E69F00"
         },
         "orientation": "h",
         "type": "bar",
         "x": [
          0.009871322089731582,
          0.01112239620783302,
          0.013065059925309524,
          0.01522731912265093,
          0.018997372662526033
         ],
         "xaxis": "x11",
         "y": [
          "emergency  ",
          "tomorrow  ",
          "live  ",
          "weather  ",
          "city  "
         ],
         "yaxis": "y11"
        },
        {
         "marker": {
          "color": "#56B4E9"
         },
         "orientation": "h",
         "type": "bar",
         "x": [
          0.008339750851108859,
          0.00853971015032426,
          0.010855116005282684,
          0.012504905405097466,
          0.017387808974817176
         ],
         "xaxis": "x12",
         "y": [
          "money  ",
          "sales  ",
          "review  ",
          "training  ",
          "job  "
         ],
         "yaxis": "y12"
        },
        {
         "marker": {
          "color": "#009E73"
         },
         "orientation": "h",
         "type": "bar",
         "x": [
          0.009079435960797038,
          0.009423034223722532,
          0.010132252956341225,
          0.012684259987035824,
          0.013033428802549048
         ],
         "xaxis": "x13",
         "y": [
          "put  ",
          "claim  ",
          "lady  ",
          "old  ",
          "lawyer  "
         ],
         "yaxis": "y13"
        },
        {
         "marker": {
          "color": "#F0E442"
         },
         "orientation": "h",
         "type": "bar",
         "x": [
          0.009304416513050254,
          0.00969411585247692,
          0.011867908998377965,
          0.012017252689050167,
          0.03880463596016289
         ],
         "xaxis": "x14",
         "y": [
          "supervisor  ",
          "smokers  ",
          "tsr  ",
          "hours  ",
          "shift  "
         ],
         "yaxis": "y14"
        },
        {
         "marker": {
          "color": "#D55E00"
         },
         "orientation": "h",
         "type": "bar",
         "x": [
          0.010872797821650921,
          0.011694894141686413,
          0.014558783586637092,
          0.015757216163150702,
          0.021890761946377145
         ],
         "xaxis": "x15",
         "y": [
          "cars  ",
          "airport  ",
          "tickets  ",
          "vegas  ",
          "rental  "
         ],
         "yaxis": "y15"
        },
        {
         "marker": {
          "color": "#0072B2"
         },
         "orientation": "h",
         "type": "bar",
         "x": [
          0.011039464158008317,
          0.011303615048500812,
          0.013276896428288954,
          0.02065220574935703,
          0.02713379895605845
         ],
         "xaxis": "x16",
         "y": [
          "accounts  ",
          "rewards  ",
          "bank  ",
          "credit  ",
          "card  "
         ],
         "yaxis": "y16"
        },
        {
         "marker": {
          "color": "#CC79A7"
         },
         "orientation": "h",
         "type": "bar",
         "x": [
          0.01303800210885853,
          0.013309956434501898,
          0.01633133192145864,
          0.0206814323822859,
          0.022383038122267093
         ],
         "xaxis": "x17",
         "y": [
          "demon  ",
          "ffffffiiiiiiiiiiixxxxxxxxx  ",
          "canadian  ",
          "fap  ",
          "carrier  "
         ],
         "yaxis": "y17"
        },
        {
         "marker": {
          "color": "#E69F00"
         },
         "orientation": "h",
         "type": "bar",
         "x": [
          0.0167016748353069,
          0.022587522800819933,
          0.023744642829668035,
          0.029794071041394928,
          0.03463639134784365
         ],
         "xaxis": "x18",
         "y": [
          "reset  ",
          "stacey  ",
          "ssn  ",
          "information  ",
          "password  "
         ],
         "yaxis": "y18"
        },
        {
         "marker": {
          "color": "#56B4E9"
         },
         "orientation": "h",
         "type": "bar",
         "x": [
          0.019717782115881575,
          0.02328506848767622,
          0.02918827894680008,
          0.02977807041631491,
          0.03057719803530254
         ],
         "xaxis": "x19",
         "y": [
          "readings  ",
          "contract  ",
          "meter  ",
          "electricity  ",
          "bill  "
         ],
         "yaxis": "y19"
        },
        {
         "marker": {
          "color": "#009E73"
         },
         "orientation": "h",
         "type": "bar",
         "x": [
          0.013541334974049964,
          0.014006263784021726,
          0.014532633748702058,
          0.014696234729854324,
          0.027729239749162447
         ],
         "xaxis": "x20",
         "y": [
          "podcast  ",
          "raise  ",
          "training  ",
          "job  ",
          "centers  "
         ],
         "yaxis": "y20"
        }
       ],
       "layout": {
        "annotations": [
         {
          "font": {
           "size": 16
          },
          "showarrow": false,
          "text": "Topic 0",
          "x": 0.0875,
          "xanchor": "center",
          "xref": "paper",
          "y": 0.9999999999999999,
          "yanchor": "bottom",
          "yref": "paper"
         },
         {
          "font": {
           "size": 16
          },
          "showarrow": false,
          "text": "Topic 1",
          "x": 0.36250000000000004,
          "xanchor": "center",
          "xref": "paper",
          "y": 0.9999999999999999,
          "yanchor": "bottom",
          "yref": "paper"
         },
         {
          "font": {
           "size": 16
          },
          "showarrow": false,
          "text": "Topic 2",
          "x": 0.6375000000000001,
          "xanchor": "center",
          "xref": "paper",
          "y": 0.9999999999999999,
          "yanchor": "bottom",
          "yref": "paper"
         },
         {
          "font": {
           "size": 16
          },
          "showarrow": false,
          "text": "Topic 3",
          "x": 0.9125,
          "xanchor": "center",
          "xref": "paper",
          "y": 0.9999999999999999,
          "yanchor": "bottom",
          "yref": "paper"
         },
         {
          "font": {
           "size": 16
          },
          "showarrow": false,
          "text": "Topic 4",
          "x": 0.0875,
          "xanchor": "center",
          "xref": "paper",
          "y": 0.7839999999999999,
          "yanchor": "bottom",
          "yref": "paper"
         },
         {
          "font": {
           "size": 16
          },
          "showarrow": false,
          "text": "Topic 5",
          "x": 0.36250000000000004,
          "xanchor": "center",
          "xref": "paper",
          "y": 0.7839999999999999,
          "yanchor": "bottom",
          "yref": "paper"
         },
         {
          "font": {
           "size": 16
          },
          "showarrow": false,
          "text": "Topic 6",
          "x": 0.6375000000000001,
          "xanchor": "center",
          "xref": "paper",
          "y": 0.7839999999999999,
          "yanchor": "bottom",
          "yref": "paper"
         },
         {
          "font": {
           "size": 16
          },
          "showarrow": false,
          "text": "Topic 7",
          "x": 0.9125,
          "xanchor": "center",
          "xref": "paper",
          "y": 0.7839999999999999,
          "yanchor": "bottom",
          "yref": "paper"
         },
         {
          "font": {
           "size": 16
          },
          "showarrow": false,
          "text": "Topic 8",
          "x": 0.0875,
          "xanchor": "center",
          "xref": "paper",
          "y": 0.568,
          "yanchor": "bottom",
          "yref": "paper"
         },
         {
          "font": {
           "size": 16
          },
          "showarrow": false,
          "text": "Topic 9",
          "x": 0.36250000000000004,
          "xanchor": "center",
          "xref": "paper",
          "y": 0.568,
          "yanchor": "bottom",
          "yref": "paper"
         },
         {
          "font": {
           "size": 16
          },
          "showarrow": false,
          "text": "Topic 10",
          "x": 0.6375000000000001,
          "xanchor": "center",
          "xref": "paper",
          "y": 0.568,
          "yanchor": "bottom",
          "yref": "paper"
         },
         {
          "font": {
           "size": 16
          },
          "showarrow": false,
          "text": "Topic 11",
          "x": 0.9125,
          "xanchor": "center",
          "xref": "paper",
          "y": 0.568,
          "yanchor": "bottom",
          "yref": "paper"
         },
         {
          "font": {
           "size": 16
          },
          "showarrow": false,
          "text": "Topic 12",
          "x": 0.0875,
          "xanchor": "center",
          "xref": "paper",
          "y": 0.352,
          "yanchor": "bottom",
          "yref": "paper"
         },
         {
          "font": {
           "size": 16
          },
          "showarrow": false,
          "text": "Topic 13",
          "x": 0.36250000000000004,
          "xanchor": "center",
          "xref": "paper",
          "y": 0.352,
          "yanchor": "bottom",
          "yref": "paper"
         },
         {
          "font": {
           "size": 16
          },
          "showarrow": false,
          "text": "Topic 14",
          "x": 0.6375000000000001,
          "xanchor": "center",
          "xref": "paper",
          "y": 0.352,
          "yanchor": "bottom",
          "yref": "paper"
         },
         {
          "font": {
           "size": 16
          },
          "showarrow": false,
          "text": "Topic 15",
          "x": 0.9125,
          "xanchor": "center",
          "xref": "paper",
          "y": 0.352,
          "yanchor": "bottom",
          "yref": "paper"
         },
         {
          "font": {
           "size": 16
          },
          "showarrow": false,
          "text": "Topic 16",
          "x": 0.0875,
          "xanchor": "center",
          "xref": "paper",
          "y": 0.13599999999999998,
          "yanchor": "bottom",
          "yref": "paper"
         },
         {
          "font": {
           "size": 16
          },
          "showarrow": false,
          "text": "Topic 17",
          "x": 0.36250000000000004,
          "xanchor": "center",
          "xref": "paper",
          "y": 0.13599999999999998,
          "yanchor": "bottom",
          "yref": "paper"
         },
         {
          "font": {
           "size": 16
          },
          "showarrow": false,
          "text": "Topic 18",
          "x": 0.6375000000000001,
          "xanchor": "center",
          "xref": "paper",
          "y": 0.13599999999999998,
          "yanchor": "bottom",
          "yref": "paper"
         },
         {
          "font": {
           "size": 16
          },
          "showarrow": false,
          "text": "Topic 19",
          "x": 0.9125,
          "xanchor": "center",
          "xref": "paper",
          "y": 0.13599999999999998,
          "yanchor": "bottom",
          "yref": "paper"
         }
        ],
        "height": 1250,
        "hoverlabel": {
         "bgcolor": "white",
         "font": {
          "family": "Rockwell",
          "size": 16
         }
        },
        "showlegend": false,
        "template": {
         "data": {
          "bar": [
           {
            "error_x": {
             "color": "#2a3f5f"
            },
            "error_y": {
             "color": "#2a3f5f"
            },
            "marker": {
             "line": {
              "color": "white",
              "width": 0.5
             },
             "pattern": {
              "fillmode": "overlay",
              "size": 10,
              "solidity": 0.2
             }
            },
            "type": "bar"
           }
          ],
          "barpolar": [
           {
            "marker": {
             "line": {
              "color": "white",
              "width": 0.5
             },
             "pattern": {
              "fillmode": "overlay",
              "size": 10,
              "solidity": 0.2
             }
            },
            "type": "barpolar"
           }
          ],
          "carpet": [
           {
            "aaxis": {
             "endlinecolor": "#2a3f5f",
             "gridcolor": "#C8D4E3",
             "linecolor": "#C8D4E3",
             "minorgridcolor": "#C8D4E3",
             "startlinecolor": "#2a3f5f"
            },
            "baxis": {
             "endlinecolor": "#2a3f5f",
             "gridcolor": "#C8D4E3",
             "linecolor": "#C8D4E3",
             "minorgridcolor": "#C8D4E3",
             "startlinecolor": "#2a3f5f"
            },
            "type": "carpet"
           }
          ],
          "choropleth": [
           {
            "colorbar": {
             "outlinewidth": 0,
             "ticks": ""
            },
            "type": "choropleth"
           }
          ],
          "contour": [
           {
            "colorbar": {
             "outlinewidth": 0,
             "ticks": ""
            },
            "colorscale": [
             [
              0,
              "#0d0887"
             ],
             [
              0.1111111111111111,
              "#46039f"
             ],
             [
              0.2222222222222222,
              "#7201a8"
             ],
             [
              0.3333333333333333,
              "#9c179e"
             ],
             [
              0.4444444444444444,
              "#bd3786"
             ],
             [
              0.5555555555555556,
              "#d8576b"
             ],
             [
              0.6666666666666666,
              "#ed7953"
             ],
             [
              0.7777777777777778,
              "#fb9f3a"
             ],
             [
              0.8888888888888888,
              "#fdca26"
             ],
             [
              1,
              "#f0f921"
             ]
            ],
            "type": "contour"
           }
          ],
          "contourcarpet": [
           {
            "colorbar": {
             "outlinewidth": 0,
             "ticks": ""
            },
            "type": "contourcarpet"
           }
          ],
          "heatmap": [
           {
            "colorbar": {
             "outlinewidth": 0,
             "ticks": ""
            },
            "colorscale": [
             [
              0,
              "#0d0887"
             ],
             [
              0.1111111111111111,
              "#46039f"
             ],
             [
              0.2222222222222222,
              "#7201a8"
             ],
             [
              0.3333333333333333,
              "#9c179e"
             ],
             [
              0.4444444444444444,
              "#bd3786"
             ],
             [
              0.5555555555555556,
              "#d8576b"
             ],
             [
              0.6666666666666666,
              "#ed7953"
             ],
             [
              0.7777777777777778,
              "#fb9f3a"
             ],
             [
              0.8888888888888888,
              "#fdca26"
             ],
             [
              1,
              "#f0f921"
             ]
            ],
            "type": "heatmap"
           }
          ],
          "heatmapgl": [
           {
            "colorbar": {
             "outlinewidth": 0,
             "ticks": ""
            },
            "colorscale": [
             [
              0,
              "#0d0887"
             ],
             [
              0.1111111111111111,
              "#46039f"
             ],
             [
              0.2222222222222222,
              "#7201a8"
             ],
             [
              0.3333333333333333,
              "#9c179e"
             ],
             [
              0.4444444444444444,
              "#bd3786"
             ],
             [
              0.5555555555555556,
              "#d8576b"
             ],
             [
              0.6666666666666666,
              "#ed7953"
             ],
             [
              0.7777777777777778,
              "#fb9f3a"
             ],
             [
              0.8888888888888888,
              "#fdca26"
             ],
             [
              1,
              "#f0f921"
             ]
            ],
            "type": "heatmapgl"
           }
          ],
          "histogram": [
           {
            "marker": {
             "pattern": {
              "fillmode": "overlay",
              "size": 10,
              "solidity": 0.2
             }
            },
            "type": "histogram"
           }
          ],
          "histogram2d": [
           {
            "colorbar": {
             "outlinewidth": 0,
             "ticks": ""
            },
            "colorscale": [
             [
              0,
              "#0d0887"
             ],
             [
              0.1111111111111111,
              "#46039f"
             ],
             [
              0.2222222222222222,
              "#7201a8"
             ],
             [
              0.3333333333333333,
              "#9c179e"
             ],
             [
              0.4444444444444444,
              "#bd3786"
             ],
             [
              0.5555555555555556,
              "#d8576b"
             ],
             [
              0.6666666666666666,
              "#ed7953"
             ],
             [
              0.7777777777777778,
              "#fb9f3a"
             ],
             [
              0.8888888888888888,
              "#fdca26"
             ],
             [
              1,
              "#f0f921"
             ]
            ],
            "type": "histogram2d"
           }
          ],
          "histogram2dcontour": [
           {
            "colorbar": {
             "outlinewidth": 0,
             "ticks": ""
            },
            "colorscale": [
             [
              0,
              "#0d0887"
             ],
             [
              0.1111111111111111,
              "#46039f"
             ],
             [
              0.2222222222222222,
              "#7201a8"
             ],
             [
              0.3333333333333333,
              "#9c179e"
             ],
             [
              0.4444444444444444,
              "#bd3786"
             ],
             [
              0.5555555555555556,
              "#d8576b"
             ],
             [
              0.6666666666666666,
              "#ed7953"
             ],
             [
              0.7777777777777778,
              "#fb9f3a"
             ],
             [
              0.8888888888888888,
              "#fdca26"
             ],
             [
              1,
              "#f0f921"
             ]
            ],
            "type": "histogram2dcontour"
           }
          ],
          "mesh3d": [
           {
            "colorbar": {
             "outlinewidth": 0,
             "ticks": ""
            },
            "type": "mesh3d"
           }
          ],
          "parcoords": [
           {
            "line": {
             "colorbar": {
              "outlinewidth": 0,
              "ticks": ""
             }
            },
            "type": "parcoords"
           }
          ],
          "pie": [
           {
            "automargin": true,
            "type": "pie"
           }
          ],
          "scatter": [
           {
            "fillpattern": {
             "fillmode": "overlay",
             "size": 10,
             "solidity": 0.2
            },
            "type": "scatter"
           }
          ],
          "scatter3d": [
           {
            "line": {
             "colorbar": {
              "outlinewidth": 0,
              "ticks": ""
             }
            },
            "marker": {
             "colorbar": {
              "outlinewidth": 0,
              "ticks": ""
             }
            },
            "type": "scatter3d"
           }
          ],
          "scattercarpet": [
           {
            "marker": {
             "colorbar": {
              "outlinewidth": 0,
              "ticks": ""
             }
            },
            "type": "scattercarpet"
           }
          ],
          "scattergeo": [
           {
            "marker": {
             "colorbar": {
              "outlinewidth": 0,
              "ticks": ""
             }
            },
            "type": "scattergeo"
           }
          ],
          "scattergl": [
           {
            "marker": {
             "colorbar": {
              "outlinewidth": 0,
              "ticks": ""
             }
            },
            "type": "scattergl"
           }
          ],
          "scattermapbox": [
           {
            "marker": {
             "colorbar": {
              "outlinewidth": 0,
              "ticks": ""
             }
            },
            "type": "scattermapbox"
           }
          ],
          "scatterpolar": [
           {
            "marker": {
             "colorbar": {
              "outlinewidth": 0,
              "ticks": ""
             }
            },
            "type": "scatterpolar"
           }
          ],
          "scatterpolargl": [
           {
            "marker": {
             "colorbar": {
              "outlinewidth": 0,
              "ticks": ""
             }
            },
            "type": "scatterpolargl"
           }
          ],
          "scatterternary": [
           {
            "marker": {
             "colorbar": {
              "outlinewidth": 0,
              "ticks": ""
             }
            },
            "type": "scatterternary"
           }
          ],
          "surface": [
           {
            "colorbar": {
             "outlinewidth": 0,
             "ticks": ""
            },
            "colorscale": [
             [
              0,
              "#0d0887"
             ],
             [
              0.1111111111111111,
              "#46039f"
             ],
             [
              0.2222222222222222,
              "#7201a8"
             ],
             [
              0.3333333333333333,
              "#9c179e"
             ],
             [
              0.4444444444444444,
              "#bd3786"
             ],
             [
              0.5555555555555556,
              "#d8576b"
             ],
             [
              0.6666666666666666,
              "#ed7953"
             ],
             [
              0.7777777777777778,
              "#fb9f3a"
             ],
             [
              0.8888888888888888,
              "#fdca26"
             ],
             [
              1,
              "#f0f921"
             ]
            ],
            "type": "surface"
           }
          ],
          "table": [
           {
            "cells": {
             "fill": {
              "color": "#EBF0F8"
             },
             "line": {
              "color": "white"
             }
            },
            "header": {
             "fill": {
              "color": "#C8D4E3"
             },
             "line": {
              "color": "white"
             }
            },
            "type": "table"
           }
          ]
         },
         "layout": {
          "annotationdefaults": {
           "arrowcolor": "#2a3f5f",
           "arrowhead": 0,
           "arrowwidth": 1
          },
          "autotypenumbers": "strict",
          "coloraxis": {
           "colorbar": {
            "outlinewidth": 0,
            "ticks": ""
           }
          },
          "colorscale": {
           "diverging": [
            [
             0,
             "#8e0152"
            ],
            [
             0.1,
             "#c51b7d"
            ],
            [
             0.2,
             "#de77ae"
            ],
            [
             0.3,
             "#f1b6da"
            ],
            [
             0.4,
             "#fde0ef"
            ],
            [
             0.5,
             "#f7f7f7"
            ],
            [
             0.6,
             "#e6f5d0"
            ],
            [
             0.7,
             "#b8e186"
            ],
            [
             0.8,
             "#7fbc41"
            ],
            [
             0.9,
             "#4d9221"
            ],
            [
             1,
             "#276419"
            ]
           ],
           "sequential": [
            [
             0,
             "#0d0887"
            ],
            [
             0.1111111111111111,
             "#46039f"
            ],
            [
             0.2222222222222222,
             "#7201a8"
            ],
            [
             0.3333333333333333,
             "#9c179e"
            ],
            [
             0.4444444444444444,
             "#bd3786"
            ],
            [
             0.5555555555555556,
             "#d8576b"
            ],
            [
             0.6666666666666666,
             "#ed7953"
            ],
            [
             0.7777777777777778,
             "#fb9f3a"
            ],
            [
             0.8888888888888888,
             "#fdca26"
            ],
            [
             1,
             "#f0f921"
            ]
           ],
           "sequentialminus": [
            [
             0,
             "#0d0887"
            ],
            [
             0.1111111111111111,
             "#46039f"
            ],
            [
             0.2222222222222222,
             "#7201a8"
            ],
            [
             0.3333333333333333,
             "#9c179e"
            ],
            [
             0.4444444444444444,
             "#bd3786"
            ],
            [
             0.5555555555555556,
             "#d8576b"
            ],
            [
             0.6666666666666666,
             "#ed7953"
            ],
            [
             0.7777777777777778,
             "#fb9f3a"
            ],
            [
             0.8888888888888888,
             "#fdca26"
            ],
            [
             1,
             "#f0f921"
            ]
           ]
          },
          "colorway": [
           "#636efa",
           "#EF553B",
           "#00cc96",
           "#ab63fa",
           "#FFA15A",
           "#19d3f3",
           "#FF6692",
           "#B6E880",
           "#FF97FF",
           "#FECB52"
          ],
          "font": {
           "color": "#2a3f5f"
          },
          "geo": {
           "bgcolor": "white",
           "lakecolor": "white",
           "landcolor": "white",
           "showlakes": true,
           "showland": true,
           "subunitcolor": "#C8D4E3"
          },
          "hoverlabel": {
           "align": "left"
          },
          "hovermode": "closest",
          "mapbox": {
           "style": "light"
          },
          "paper_bgcolor": "white",
          "plot_bgcolor": "white",
          "polar": {
           "angularaxis": {
            "gridcolor": "#EBF0F8",
            "linecolor": "#EBF0F8",
            "ticks": ""
           },
           "bgcolor": "white",
           "radialaxis": {
            "gridcolor": "#EBF0F8",
            "linecolor": "#EBF0F8",
            "ticks": ""
           }
          },
          "scene": {
           "xaxis": {
            "backgroundcolor": "white",
            "gridcolor": "#DFE8F3",
            "gridwidth": 2,
            "linecolor": "#EBF0F8",
            "showbackground": true,
            "ticks": "",
            "zerolinecolor": "#EBF0F8"
           },
           "yaxis": {
            "backgroundcolor": "white",
            "gridcolor": "#DFE8F3",
            "gridwidth": 2,
            "linecolor": "#EBF0F8",
            "showbackground": true,
            "ticks": "",
            "zerolinecolor": "#EBF0F8"
           },
           "zaxis": {
            "backgroundcolor": "white",
            "gridcolor": "#DFE8F3",
            "gridwidth": 2,
            "linecolor": "#EBF0F8",
            "showbackground": true,
            "ticks": "",
            "zerolinecolor": "#EBF0F8"
           }
          },
          "shapedefaults": {
           "line": {
            "color": "#2a3f5f"
           }
          },
          "ternary": {
           "aaxis": {
            "gridcolor": "#DFE8F3",
            "linecolor": "#A2B1C6",
            "ticks": ""
           },
           "baxis": {
            "gridcolor": "#DFE8F3",
            "linecolor": "#A2B1C6",
            "ticks": ""
           },
           "bgcolor": "white",
           "caxis": {
            "gridcolor": "#DFE8F3",
            "linecolor": "#A2B1C6",
            "ticks": ""
           }
          },
          "title": {
           "x": 0.05
          },
          "xaxis": {
           "automargin": true,
           "gridcolor": "#EBF0F8",
           "linecolor": "#EBF0F8",
           "ticks": "",
           "title": {
            "standoff": 15
           },
           "zerolinecolor": "#EBF0F8",
           "zerolinewidth": 2
          },
          "yaxis": {
           "automargin": true,
           "gridcolor": "#EBF0F8",
           "linecolor": "#EBF0F8",
           "ticks": "",
           "title": {
            "standoff": 15
           },
           "zerolinecolor": "#EBF0F8",
           "zerolinewidth": 2
          }
         }
        },
        "title": {
         "font": {
          "color": "Black",
          "size": 22
         },
         "text": "Topic Word Scores",
         "x": 0.5,
         "xanchor": "center",
         "yanchor": "top"
        },
        "width": 1000,
        "xaxis": {
         "anchor": "y",
         "domain": [
          0,
          0.175
         ],
         "showgrid": true
        },
        "xaxis10": {
         "anchor": "y10",
         "domain": [
          0.275,
          0.45
         ],
         "showgrid": true
        },
        "xaxis11": {
         "anchor": "y11",
         "domain": [
          0.55,
          0.7250000000000001
         ],
         "showgrid": true
        },
        "xaxis12": {
         "anchor": "y12",
         "domain": [
          0.825,
          1
         ],
         "showgrid": true
        },
        "xaxis13": {
         "anchor": "y13",
         "domain": [
          0,
          0.175
         ],
         "showgrid": true
        },
        "xaxis14": {
         "anchor": "y14",
         "domain": [
          0.275,
          0.45
         ],
         "showgrid": true
        },
        "xaxis15": {
         "anchor": "y15",
         "domain": [
          0.55,
          0.7250000000000001
         ],
         "showgrid": true
        },
        "xaxis16": {
         "anchor": "y16",
         "domain": [
          0.825,
          1
         ],
         "showgrid": true
        },
        "xaxis17": {
         "anchor": "y17",
         "domain": [
          0,
          0.175
         ],
         "showgrid": true
        },
        "xaxis18": {
         "anchor": "y18",
         "domain": [
          0.275,
          0.45
         ],
         "showgrid": true
        },
        "xaxis19": {
         "anchor": "y19",
         "domain": [
          0.55,
          0.7250000000000001
         ],
         "showgrid": true
        },
        "xaxis2": {
         "anchor": "y2",
         "domain": [
          0.275,
          0.45
         ],
         "showgrid": true
        },
        "xaxis20": {
         "anchor": "y20",
         "domain": [
          0.825,
          1
         ],
         "showgrid": true
        },
        "xaxis3": {
         "anchor": "y3",
         "domain": [
          0.55,
          0.7250000000000001
         ],
         "showgrid": true
        },
        "xaxis4": {
         "anchor": "y4",
         "domain": [
          0.825,
          1
         ],
         "showgrid": true
        },
        "xaxis5": {
         "anchor": "y5",
         "domain": [
          0,
          0.175
         ],
         "showgrid": true
        },
        "xaxis6": {
         "anchor": "y6",
         "domain": [
          0.275,
          0.45
         ],
         "showgrid": true
        },
        "xaxis7": {
         "anchor": "y7",
         "domain": [
          0.55,
          0.7250000000000001
         ],
         "showgrid": true
        },
        "xaxis8": {
         "anchor": "y8",
         "domain": [
          0.825,
          1
         ],
         "showgrid": true
        },
        "xaxis9": {
         "anchor": "y9",
         "domain": [
          0,
          0.175
         ],
         "showgrid": true
        },
        "yaxis": {
         "anchor": "x",
         "domain": [
          0.8639999999999999,
          0.9999999999999999
         ],
         "showgrid": true
        },
        "yaxis10": {
         "anchor": "x10",
         "domain": [
          0.43199999999999994,
          0.568
         ],
         "showgrid": true
        },
        "yaxis11": {
         "anchor": "x11",
         "domain": [
          0.43199999999999994,
          0.568
         ],
         "showgrid": true
        },
        "yaxis12": {
         "anchor": "x12",
         "domain": [
          0.43199999999999994,
          0.568
         ],
         "showgrid": true
        },
        "yaxis13": {
         "anchor": "x13",
         "domain": [
          0.21599999999999997,
          0.352
         ],
         "showgrid": true
        },
        "yaxis14": {
         "anchor": "x14",
         "domain": [
          0.21599999999999997,
          0.352
         ],
         "showgrid": true
        },
        "yaxis15": {
         "anchor": "x15",
         "domain": [
          0.21599999999999997,
          0.352
         ],
         "showgrid": true
        },
        "yaxis16": {
         "anchor": "x16",
         "domain": [
          0.21599999999999997,
          0.352
         ],
         "showgrid": true
        },
        "yaxis17": {
         "anchor": "x17",
         "domain": [
          0,
          0.13599999999999998
         ],
         "showgrid": true
        },
        "yaxis18": {
         "anchor": "x18",
         "domain": [
          0,
          0.13599999999999998
         ],
         "showgrid": true
        },
        "yaxis19": {
         "anchor": "x19",
         "domain": [
          0,
          0.13599999999999998
         ],
         "showgrid": true
        },
        "yaxis2": {
         "anchor": "x2",
         "domain": [
          0.8639999999999999,
          0.9999999999999999
         ],
         "showgrid": true
        },
        "yaxis20": {
         "anchor": "x20",
         "domain": [
          0,
          0.13599999999999998
         ],
         "showgrid": true
        },
        "yaxis3": {
         "anchor": "x3",
         "domain": [
          0.8639999999999999,
          0.9999999999999999
         ],
         "showgrid": true
        },
        "yaxis4": {
         "anchor": "x4",
         "domain": [
          0.8639999999999999,
          0.9999999999999999
         ],
         "showgrid": true
        },
        "yaxis5": {
         "anchor": "x5",
         "domain": [
          0.6479999999999999,
          0.7839999999999999
         ],
         "showgrid": true
        },
        "yaxis6": {
         "anchor": "x6",
         "domain": [
          0.6479999999999999,
          0.7839999999999999
         ],
         "showgrid": true
        },
        "yaxis7": {
         "anchor": "x7",
         "domain": [
          0.6479999999999999,
          0.7839999999999999
         ],
         "showgrid": true
        },
        "yaxis8": {
         "anchor": "x8",
         "domain": [
          0.6479999999999999,
          0.7839999999999999
         ],
         "showgrid": true
        },
        "yaxis9": {
         "anchor": "x9",
         "domain": [
          0.43199999999999994,
          0.568
         ],
         "showgrid": true
        }
       }
      }
     },
     "metadata": {},
     "output_type": "display_data"
    }
   ],
   "source": [
    "model.visualize_barchart(top_n_topics=20, n_words=5)\n"
   ]
  },
  {
   "attachments": {},
   "cell_type": "markdown",
   "metadata": {},
   "source": [
    "### Filter dataset to only the topics of interest for analysis.  In this case we'll keep top 20 topics which are 0 - 19.  Tokens and Lemmatized columns are no longer required and are dropped."
   ]
  },
  {
   "cell_type": "code",
   "execution_count": 14,
   "metadata": {},
   "outputs": [],
   "source": [
    "data = data.drop(['tokens', 'lemmatized'], axis=1)\n"
   ]
  },
  {
   "cell_type": "code",
   "execution_count": 15,
   "metadata": {},
   "outputs": [],
   "source": [
    "data = data.loc[(data['topic'] >= 0) & (data['topic'] <= 19)]\n"
   ]
  },
  {
   "cell_type": "code",
   "execution_count": 16,
   "metadata": {},
   "outputs": [
    {
     "data": {
      "text/html": [
       "<div>\n",
       "<style scoped>\n",
       "    .dataframe tbody tr th:only-of-type {\n",
       "        vertical-align: middle;\n",
       "    }\n",
       "\n",
       "    .dataframe tbody tr th {\n",
       "        vertical-align: top;\n",
       "    }\n",
       "\n",
       "    .dataframe thead th {\n",
       "        text-align: right;\n",
       "    }\n",
       "</style>\n",
       "<table border=\"1\" class=\"dataframe\">\n",
       "  <thead>\n",
       "    <tr style=\"text-align: right;\">\n",
       "      <th></th>\n",
       "      <th>id</th>\n",
       "      <th>title</th>\n",
       "      <th>selftext</th>\n",
       "      <th>author</th>\n",
       "      <th>score</th>\n",
       "      <th>num_comments</th>\n",
       "      <th>created_date</th>\n",
       "      <th>selftext_length</th>\n",
       "      <th>topic</th>\n",
       "    </tr>\n",
       "  </thead>\n",
       "  <tbody>\n",
       "    <tr>\n",
       "      <th>2</th>\n",
       "      <td>ymjc0</td>\n",
       "      <td>Tech support agent, and yet I can't touch my c...</td>\n",
       "      <td>at my work we are not allowed to adjust the mo...</td>\n",
       "      <td>hanzors</td>\n",
       "      <td>40</td>\n",
       "      <td>19</td>\n",
       "      <td>2012-08-22 06:27:29</td>\n",
       "      <td>104</td>\n",
       "      <td>1</td>\n",
       "    </tr>\n",
       "    <tr>\n",
       "      <th>9</th>\n",
       "      <td>10mbtu</td>\n",
       "      <td>Passwords</td>\n",
       "      <td>so i work for a major cellphone company, my se...</td>\n",
       "      <td>[deleted]</td>\n",
       "      <td>19</td>\n",
       "      <td>12</td>\n",
       "      <td>2012-09-28 14:41:55</td>\n",
       "      <td>245</td>\n",
       "      <td>17</td>\n",
       "    </tr>\n",
       "    <tr>\n",
       "      <th>11</th>\n",
       "      <td>10qjhg</td>\n",
       "      <td>\"Treat me like a friend.\"</td>\n",
       "      <td>got a customer the other day who, in the middl...</td>\n",
       "      <td>TroubleEntendre</td>\n",
       "      <td>37</td>\n",
       "      <td>9</td>\n",
       "      <td>2012-10-01 00:53:29</td>\n",
       "      <td>104</td>\n",
       "      <td>12</td>\n",
       "    </tr>\n",
       "    <tr>\n",
       "      <th>12</th>\n",
       "      <td>10vp4l</td>\n",
       "      <td>Any stories/rants from chat reps?</td>\n",
       "      <td>i am a chat rep for a major financial firm. i ...</td>\n",
       "      <td>solidsnake78</td>\n",
       "      <td>11</td>\n",
       "      <td>11</td>\n",
       "      <td>2012-10-03 15:58:30</td>\n",
       "      <td>300</td>\n",
       "      <td>9</td>\n",
       "    </tr>\n",
       "    <tr>\n",
       "      <th>14</th>\n",
       "      <td>11ddgv</td>\n",
       "      <td>Good universal script for transferring a call?</td>\n",
       "      <td>not sure if this is the best place to ask, but...</td>\n",
       "      <td>beepbeep27</td>\n",
       "      <td>7</td>\n",
       "      <td>23</td>\n",
       "      <td>2012-10-12 16:16:57</td>\n",
       "      <td>107</td>\n",
       "      <td>19</td>\n",
       "    </tr>\n",
       "    <tr>\n",
       "      <th>...</th>\n",
       "      <td>...</td>\n",
       "      <td>...</td>\n",
       "      <td>...</td>\n",
       "      <td>...</td>\n",
       "      <td>...</td>\n",
       "      <td>...</td>\n",
       "      <td>...</td>\n",
       "      <td>...</td>\n",
       "      <td>...</td>\n",
       "    </tr>\n",
       "    <tr>\n",
       "      <th>5293</th>\n",
       "      <td>z8k8s6</td>\n",
       "      <td>Be careful what you ask for, you just might ge...</td>\n",
       "      <td>i work in a call centre. it's a small-ish, fam...</td>\n",
       "      <td>ig0tst0ries</td>\n",
       "      <td>106</td>\n",
       "      <td>7</td>\n",
       "      <td>2022-11-30 06:52:58</td>\n",
       "      <td>312</td>\n",
       "      <td>18</td>\n",
       "    </tr>\n",
       "    <tr>\n",
       "      <th>5297</th>\n",
       "      <td>zdhg4r</td>\n",
       "      <td>Most irritating survey response</td>\n",
       "      <td>i had this call with this woman where i did ev...</td>\n",
       "      <td>Toritoise</td>\n",
       "      <td>280</td>\n",
       "      <td>64</td>\n",
       "      <td>2022-12-05 19:50:53</td>\n",
       "      <td>186</td>\n",
       "      <td>0</td>\n",
       "    </tr>\n",
       "    <tr>\n",
       "      <th>5302</th>\n",
       "      <td>zh95z0</td>\n",
       "      <td>How do you combat the urge to assume everyone’...</td>\n",
       "      <td>i work at a utility company.   people call in ...</td>\n",
       "      <td>gameofthrones_addict</td>\n",
       "      <td>93</td>\n",
       "      <td>49</td>\n",
       "      <td>2022-12-09 21:23:33</td>\n",
       "      <td>355</td>\n",
       "      <td>2</td>\n",
       "    </tr>\n",
       "    <tr>\n",
       "      <th>5308</th>\n",
       "      <td>zp0w7a</td>\n",
       "      <td>If anyone DOESNT need knives, it’s him.</td>\n",
       "      <td>before where i am now, i was customer service ...</td>\n",
       "      <td>bremariemantis</td>\n",
       "      <td>170</td>\n",
       "      <td>11</td>\n",
       "      <td>2022-12-18 15:19:39</td>\n",
       "      <td>252</td>\n",
       "      <td>14</td>\n",
       "    </tr>\n",
       "    <tr>\n",
       "      <th>5314</th>\n",
       "      <td>zwohz7</td>\n",
       "      <td>Something I've been thinking about...</td>\n",
       "      <td>does anyone else think that if these call cent...</td>\n",
       "      <td>ghostof_lisasbabytoe</td>\n",
       "      <td>22</td>\n",
       "      <td>12</td>\n",
       "      <td>2022-12-27 19:58:39</td>\n",
       "      <td>225</td>\n",
       "      <td>19</td>\n",
       "    </tr>\n",
       "  </tbody>\n",
       "</table>\n",
       "<p>1191 rows × 9 columns</p>\n",
       "</div>"
      ],
      "text/plain": [
       "          id                                              title  \\\n",
       "2      ymjc0  Tech support agent, and yet I can't touch my c...   \n",
       "9     10mbtu                                          Passwords   \n",
       "11    10qjhg                          \"Treat me like a friend.\"   \n",
       "12    10vp4l                  Any stories/rants from chat reps?   \n",
       "14    11ddgv     Good universal script for transferring a call?   \n",
       "...      ...                                                ...   \n",
       "5293  z8k8s6  Be careful what you ask for, you just might ge...   \n",
       "5297  zdhg4r                    Most irritating survey response   \n",
       "5302  zh95z0  How do you combat the urge to assume everyone’...   \n",
       "5308  zp0w7a            If anyone DOESNT need knives, it’s him.   \n",
       "5314  zwohz7              Something I've been thinking about...   \n",
       "\n",
       "                                               selftext                author  \\\n",
       "2     at my work we are not allowed to adjust the mo...               hanzors   \n",
       "9     so i work for a major cellphone company, my se...             [deleted]   \n",
       "11    got a customer the other day who, in the middl...       TroubleEntendre   \n",
       "12    i am a chat rep for a major financial firm. i ...          solidsnake78   \n",
       "14    not sure if this is the best place to ask, but...            beepbeep27   \n",
       "...                                                 ...                   ...   \n",
       "5293  i work in a call centre. it's a small-ish, fam...           ig0tst0ries   \n",
       "5297  i had this call with this woman where i did ev...             Toritoise   \n",
       "5302  i work at a utility company.   people call in ...  gameofthrones_addict   \n",
       "5308  before where i am now, i was customer service ...        bremariemantis   \n",
       "5314  does anyone else think that if these call cent...  ghostof_lisasbabytoe   \n",
       "\n",
       "      score  num_comments         created_date  selftext_length  topic  \n",
       "2        40            19  2012-08-22 06:27:29              104      1  \n",
       "9        19            12  2012-09-28 14:41:55              245     17  \n",
       "11       37             9  2012-10-01 00:53:29              104     12  \n",
       "12       11            11  2012-10-03 15:58:30              300      9  \n",
       "14        7            23  2012-10-12 16:16:57              107     19  \n",
       "...     ...           ...                  ...              ...    ...  \n",
       "5293    106             7  2022-11-30 06:52:58              312     18  \n",
       "5297    280            64  2022-12-05 19:50:53              186      0  \n",
       "5302     93            49  2022-12-09 21:23:33              355      2  \n",
       "5308    170            11  2022-12-18 15:19:39              252     14  \n",
       "5314     22            12  2022-12-27 19:58:39              225     19  \n",
       "\n",
       "[1191 rows x 9 columns]"
      ]
     },
     "execution_count": 16,
     "metadata": {},
     "output_type": "execute_result"
    }
   ],
   "source": [
    "data"
   ]
  },
  {
   "attachments": {},
   "cell_type": "markdown",
   "metadata": {},
   "source": [
    "### The submission counts for the topics"
   ]
  },
  {
   "cell_type": "code",
   "execution_count": 17,
   "metadata": {},
   "outputs": [
    {
     "data": {
      "text/html": [
       "<div>\n",
       "<style scoped>\n",
       "    .dataframe tbody tr th:only-of-type {\n",
       "        vertical-align: middle;\n",
       "    }\n",
       "\n",
       "    .dataframe tbody tr th {\n",
       "        vertical-align: top;\n",
       "    }\n",
       "\n",
       "    .dataframe thead th {\n",
       "        text-align: right;\n",
       "    }\n",
       "</style>\n",
       "<table border=\"1\" class=\"dataframe\">\n",
       "  <thead>\n",
       "    <tr style=\"text-align: right;\">\n",
       "      <th></th>\n",
       "      <th>Topic</th>\n",
       "      <th>Count</th>\n",
       "      <th>Name</th>\n",
       "    </tr>\n",
       "  </thead>\n",
       "  <tbody>\n",
       "    <tr>\n",
       "      <th>0</th>\n",
       "      <td>-1</td>\n",
       "      <td>3491</td>\n",
       "      <td>-1_get_need_name_service</td>\n",
       "    </tr>\n",
       "    <tr>\n",
       "      <th>1</th>\n",
       "      <td>0</td>\n",
       "      <td>165</td>\n",
       "      <td>0_name_thank_need_lady</td>\n",
       "    </tr>\n",
       "    <tr>\n",
       "      <th>2</th>\n",
       "      <td>1</td>\n",
       "      <td>119</td>\n",
       "      <td>1_support_tech_software_device</td>\n",
       "    </tr>\n",
       "    <tr>\n",
       "      <th>3</th>\n",
       "      <td>2</td>\n",
       "      <td>99</td>\n",
       "      <td>2_payments_refund_bank_card</td>\n",
       "    </tr>\n",
       "    <tr>\n",
       "      <th>4</th>\n",
       "      <td>3</td>\n",
       "      <td>89</td>\n",
       "      <td>3_insurance_claim_car_name</td>\n",
       "    </tr>\n",
       "    <tr>\n",
       "      <th>5</th>\n",
       "      <td>4</td>\n",
       "      <td>66</td>\n",
       "      <td>4_bill_credit_people_payment</td>\n",
       "    </tr>\n",
       "    <tr>\n",
       "      <th>6</th>\n",
       "      <td>5</td>\n",
       "      <td>65</td>\n",
       "      <td>5_client_number_order_address</td>\n",
       "    </tr>\n",
       "    <tr>\n",
       "      <th>7</th>\n",
       "      <td>6</td>\n",
       "      <td>58</td>\n",
       "      <td>6_feel_jobs_life_centers</td>\n",
       "    </tr>\n",
       "    <tr>\n",
       "      <th>8</th>\n",
       "      <td>7</td>\n",
       "      <td>58</td>\n",
       "      <td>7_customers_service_screaming_like</td>\n",
       "    </tr>\n",
       "    <tr>\n",
       "      <th>9</th>\n",
       "      <td>8</td>\n",
       "      <td>57</td>\n",
       "      <td>8_service_amp_credit_isp</td>\n",
       "    </tr>\n",
       "    <tr>\n",
       "      <th>10</th>\n",
       "      <td>9</td>\n",
       "      <td>53</td>\n",
       "      <td>9_amp_chat_harry_gbl</td>\n",
       "    </tr>\n",
       "    <tr>\n",
       "      <th>11</th>\n",
       "      <td>10</td>\n",
       "      <td>51</td>\n",
       "      <td>10_city_weather_live_tomorrow</td>\n",
       "    </tr>\n",
       "    <tr>\n",
       "      <th>12</th>\n",
       "      <td>11</td>\n",
       "      <td>43</td>\n",
       "      <td>11_job_training_review_sales</td>\n",
       "    </tr>\n",
       "    <tr>\n",
       "      <th>13</th>\n",
       "      <td>12</td>\n",
       "      <td>43</td>\n",
       "      <td>12_lawyer_old_lady_claim</td>\n",
       "    </tr>\n",
       "    <tr>\n",
       "      <th>14</th>\n",
       "      <td>13</td>\n",
       "      <td>40</td>\n",
       "      <td>13_shift_hours_tsr_smokers</td>\n",
       "    </tr>\n",
       "    <tr>\n",
       "      <th>15</th>\n",
       "      <td>14</td>\n",
       "      <td>39</td>\n",
       "      <td>14_rental_vegas_tickets_airport</td>\n",
       "    </tr>\n",
       "    <tr>\n",
       "      <th>16</th>\n",
       "      <td>15</td>\n",
       "      <td>33</td>\n",
       "      <td>15_card_credit_bank_rewards</td>\n",
       "    </tr>\n",
       "    <tr>\n",
       "      <th>17</th>\n",
       "      <td>16</td>\n",
       "      <td>31</td>\n",
       "      <td>16_carrier_fap_canadian_ffffffiiiiiiiiiiixxxxx...</td>\n",
       "    </tr>\n",
       "    <tr>\n",
       "      <th>18</th>\n",
       "      <td>17</td>\n",
       "      <td>29</td>\n",
       "      <td>17_password_information_ssn_stacey</td>\n",
       "    </tr>\n",
       "    <tr>\n",
       "      <th>19</th>\n",
       "      <td>18</td>\n",
       "      <td>27</td>\n",
       "      <td>18_bill_electricity_meter_contract</td>\n",
       "    </tr>\n",
       "  </tbody>\n",
       "</table>\n",
       "</div>"
      ],
      "text/plain": [
       "    Topic  Count                                               Name\n",
       "0      -1   3491                           -1_get_need_name_service\n",
       "1       0    165                             0_name_thank_need_lady\n",
       "2       1    119                     1_support_tech_software_device\n",
       "3       2     99                        2_payments_refund_bank_card\n",
       "4       3     89                         3_insurance_claim_car_name\n",
       "5       4     66                       4_bill_credit_people_payment\n",
       "6       5     65                      5_client_number_order_address\n",
       "7       6     58                           6_feel_jobs_life_centers\n",
       "8       7     58                 7_customers_service_screaming_like\n",
       "9       8     57                           8_service_amp_credit_isp\n",
       "10      9     53                               9_amp_chat_harry_gbl\n",
       "11     10     51                      10_city_weather_live_tomorrow\n",
       "12     11     43                       11_job_training_review_sales\n",
       "13     12     43                           12_lawyer_old_lady_claim\n",
       "14     13     40                         13_shift_hours_tsr_smokers\n",
       "15     14     39                    14_rental_vegas_tickets_airport\n",
       "16     15     33                        15_card_credit_bank_rewards\n",
       "17     16     31  16_carrier_fap_canadian_ffffffiiiiiiiiiiixxxxx...\n",
       "18     17     29                 17_password_information_ssn_stacey\n",
       "19     18     27                 18_bill_electricity_meter_contract"
      ]
     },
     "execution_count": 17,
     "metadata": {},
     "output_type": "execute_result"
    }
   ],
   "source": [
    "details.head(20)"
   ]
  },
  {
   "attachments": {},
   "cell_type": "markdown",
   "metadata": {},
   "source": [
    "#### Export the filtered dataset and the topic counts for the top 20 topics."
   ]
  },
  {
   "cell_type": "code",
   "execution_count": 18,
   "metadata": {},
   "outputs": [],
   "source": [
    "details.to_csv('tfcc_submissions_topic_counts_neg1', index=False)"
   ]
  },
  {
   "cell_type": "code",
   "execution_count": 19,
   "metadata": {},
   "outputs": [],
   "source": [
    "data.to_csv('tfcc_submissions_selected_topics_neg1.csv', index=False)"
   ]
  },
  {
   "attachments": {},
   "cell_type": "markdown",
   "metadata": {},
   "source": [
    "#### Run from top again on the -1 topics from first pass"
   ]
  },
  {
   "cell_type": "markdown",
   "metadata": {},
   "source": []
  }
 ],
 "metadata": {
  "kernelspec": {
   "display_name": "bertopic",
   "language": "python",
   "name": "python3"
  },
  "language_info": {
   "codemirror_mode": {
    "name": "ipython",
    "version": 3
   },
   "file_extension": ".py",
   "mimetype": "text/x-python",
   "name": "python",
   "nbconvert_exporter": "python",
   "pygments_lexer": "ipython3",
   "version": "3.10.6"
  },
  "orig_nbformat": 4,
  "vscode": {
   "interpreter": {
    "hash": "67cfafb2966ad38f021c3760fdc7d3abae7cbc8d411c26a5ddb66b3636203364"
   }
  }
 },
 "nbformat": 4,
 "nbformat_minor": 2
}
