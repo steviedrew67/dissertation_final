{
 "cells": [
  {
   "attachments": {},
   "cell_type": "markdown",
   "metadata": {},
   "source": [
    "### Step 5. Topic Modeling of Submissions"
   ]
  },
  {
   "attachments": {},
   "cell_type": "markdown",
   "metadata": {},
   "source": [
    "#### Import required libraries and read submissions csv into a Pandas dataframe"
   ]
  },
  {
   "cell_type": "code",
   "execution_count": 1,
   "metadata": {},
   "outputs": [],
   "source": [
    "import pandas as pd\n",
    "from datasets import Dataset\n",
    "import nltk, re\n",
    "from bertopic import BERTopic\n",
    "from bertopic.representation import MaximalMarginalRelevance\n",
    "from sentence_transformers import SentenceTransformer\n"
   ]
  },
  {
   "attachments": {},
   "cell_type": "markdown",
   "metadata": {},
   "source": [
    "#### Import CSV file from steps 2 - 4"
   ]
  },
  {
   "cell_type": "code",
   "execution_count": 2,
   "metadata": {},
   "outputs": [],
   "source": [
    "tfcc_data = pd.read_csv('tfcc_submissions_for_top_modeling.csv')"
   ]
  },
  {
   "cell_type": "code",
   "execution_count": null,
   "metadata": {},
   "outputs": [],
   "source": [
    "\n",
    "from nltk.corpus import stopwords\n",
    "from nltk.stem import PorterStemmer\n",
    "from nltk.tokenize import word_tokenize, sent_tokenize\n",
    "from nltk.tokenize import RegexpTokenizer\n",
    "from nltk.stem.wordnet import WordNetLemmatizer\n",
    "\n",
    "from collections import Counter\n",
    "from nltk.util import ngrams\n",
    "nltk.download('punkt')\n",
    "nltk.download('stopwords')\n",
    "nltk.download('wordnet')\n",
    "nltk.download('omw-1.4')"
   ]
  },
  {
   "attachments": {},
   "cell_type": "markdown",
   "metadata": {},
   "source": [
    "#### Setup stop words and add additional words relevant to the subreddit (these can be found through the first one or two passes of topic modeling and may require some trial and error to identify)\n",
    "\n",
    "Note: Remove work, time, day from stop words for first pass.  Add back in when running for -1 topic"
   ]
  },
  {
   "cell_type": "code",
   "execution_count": 4,
   "metadata": {},
   "outputs": [
    {
     "name": "stdout",
     "output_type": "stream",
     "text": [
      "191\n"
     ]
    }
   ],
   "source": [
    "stop_words = stopwords.words('english')\n",
    "stop_words.extend(['call', 'customer', 'phone', 'company', 'caller', 'account', 'calls','center','x200b', 'work', 'time', 'day'])\n",
    "\n",
    "print(len(stop_words))"
   ]
  },
  {
   "attachments": {},
   "cell_type": "markdown",
   "metadata": {},
   "source": [
    "#### Convert text to lower case, tokenize self text field, remove stop words, lemmatize tokens"
   ]
  },
  {
   "cell_type": "code",
   "execution_count": 5,
   "metadata": {},
   "outputs": [],
   "source": [
    "data = tfcc_data"
   ]
  },
  {
   "cell_type": "code",
   "execution_count": 6,
   "metadata": {},
   "outputs": [
    {
     "data": {
      "text/html": [
       "<div>\n",
       "<style scoped>\n",
       "    .dataframe tbody tr th:only-of-type {\n",
       "        vertical-align: middle;\n",
       "    }\n",
       "\n",
       "    .dataframe tbody tr th {\n",
       "        vertical-align: top;\n",
       "    }\n",
       "\n",
       "    .dataframe thead th {\n",
       "        text-align: right;\n",
       "    }\n",
       "</style>\n",
       "<table border=\"1\" class=\"dataframe\">\n",
       "  <thead>\n",
       "    <tr style=\"text-align: right;\">\n",
       "      <th></th>\n",
       "      <th>id</th>\n",
       "      <th>title</th>\n",
       "      <th>selftext</th>\n",
       "      <th>author</th>\n",
       "      <th>score</th>\n",
       "      <th>num_comments</th>\n",
       "      <th>created_date</th>\n",
       "      <th>selftext_length</th>\n",
       "      <th>tokens</th>\n",
       "      <th>lemmatized</th>\n",
       "    </tr>\n",
       "  </thead>\n",
       "  <tbody>\n",
       "    <tr>\n",
       "      <th>0</th>\n",
       "      <td>yc4bm</td>\n",
       "      <td>No brain, No pain.</td>\n",
       "      <td>i swear that convergys will hire any moron tha...</td>\n",
       "      <td>[deleted]</td>\n",
       "      <td>28</td>\n",
       "      <td>10</td>\n",
       "      <td>2012-08-16 19:38:03</td>\n",
       "      <td>218</td>\n",
       "      <td>swear convergys hire moron walk door keep bodi...</td>\n",
       "      <td>swear convergys hire moron walk door keep bodi...</td>\n",
       "    </tr>\n",
       "    <tr>\n",
       "      <th>1</th>\n",
       "      <td>yamv8</td>\n",
       "      <td>\"how fast does your modems go ?</td>\n",
       "      <td>starting off the awesome subreddit\\n\\ni used t...</td>\n",
       "      <td>[deleted]</td>\n",
       "      <td>34</td>\n",
       "      <td>4</td>\n",
       "      <td>2012-08-16 01:24:57</td>\n",
       "      <td>200</td>\n",
       "      <td>starting awesome subreddit used tech support g...</td>\n",
       "      <td>starting awesome subreddit used tech support g...</td>\n",
       "    </tr>\n",
       "    <tr>\n",
       "      <th>2</th>\n",
       "      <td>ydntm</td>\n",
       "      <td>[I can't tell you] information line, this is P...</td>\n",
       "      <td>yay!  28th subscriber!\\n\\ni used to work for a...</td>\n",
       "      <td>PoglaTheGrate</td>\n",
       "      <td>29</td>\n",
       "      <td>4</td>\n",
       "      <td>2012-08-17 15:02:53</td>\n",
       "      <td>463</td>\n",
       "      <td>yay 28th subscriber used government informatio...</td>\n",
       "      <td>yay 28th subscriber used government informatio...</td>\n",
       "    </tr>\n",
       "    <tr>\n",
       "      <th>3</th>\n",
       "      <td>yicc4</td>\n",
       "      <td>Dishwasher blues</td>\n",
       "      <td>the stories i've heard amazes me but this one ...</td>\n",
       "      <td>[deleted]</td>\n",
       "      <td>31</td>\n",
       "      <td>15</td>\n",
       "      <td>2012-08-20 05:05:34</td>\n",
       "      <td>431</td>\n",
       "      <td>stories heard amazes one takes cake tell peopl...</td>\n",
       "      <td>stories heard amazes one takes cake tell peopl...</td>\n",
       "    </tr>\n",
       "    <tr>\n",
       "      <th>4</th>\n",
       "      <td>ymjc0</td>\n",
       "      <td>Tech support agent, and yet I can't touch my c...</td>\n",
       "      <td>at my work we are not allowed to adjust the mo...</td>\n",
       "      <td>hanzors</td>\n",
       "      <td>40</td>\n",
       "      <td>19</td>\n",
       "      <td>2012-08-22 06:27:29</td>\n",
       "      <td>104</td>\n",
       "      <td>allowed adjust monitors plug cables anything t...</td>\n",
       "      <td>allowed adjust monitors plug cables anything t...</td>\n",
       "    </tr>\n",
       "  </tbody>\n",
       "</table>\n",
       "</div>"
      ],
      "text/plain": [
       "      id                                              title  \\\n",
       "0  yc4bm                                 No brain, No pain.   \n",
       "1  yamv8                    \"how fast does your modems go ?   \n",
       "2  ydntm  [I can't tell you] information line, this is P...   \n",
       "3  yicc4                                   Dishwasher blues   \n",
       "4  ymjc0  Tech support agent, and yet I can't touch my c...   \n",
       "\n",
       "                                            selftext         author  score  \\\n",
       "0  i swear that convergys will hire any moron tha...      [deleted]     28   \n",
       "1  starting off the awesome subreddit\\n\\ni used t...      [deleted]     34   \n",
       "2  yay!  28th subscriber!\\n\\ni used to work for a...  PoglaTheGrate     29   \n",
       "3  the stories i've heard amazes me but this one ...      [deleted]     31   \n",
       "4  at my work we are not allowed to adjust the mo...        hanzors     40   \n",
       "\n",
       "   num_comments         created_date  selftext_length  \\\n",
       "0            10  2012-08-16 19:38:03              218   \n",
       "1             4  2012-08-16 01:24:57              200   \n",
       "2             4  2012-08-17 15:02:53              463   \n",
       "3            15  2012-08-20 05:05:34              431   \n",
       "4            19  2012-08-22 06:27:29              104   \n",
       "\n",
       "                                              tokens  \\\n",
       "0  swear convergys hire moron walk door keep bodi...   \n",
       "1  starting awesome subreddit used tech support g...   \n",
       "2  yay 28th subscriber used government informatio...   \n",
       "3  stories heard amazes one takes cake tell peopl...   \n",
       "4  allowed adjust monitors plug cables anything t...   \n",
       "\n",
       "                                          lemmatized  \n",
       "0  swear convergys hire moron walk door keep bodi...  \n",
       "1  starting awesome subreddit used tech support g...  \n",
       "2  yay 28th subscriber used government informatio...  \n",
       "3  stories heard amazes one takes cake tell peopl...  \n",
       "4  allowed adjust monitors plug cables anything t...  "
      ]
     },
     "execution_count": 6,
     "metadata": {},
     "output_type": "execute_result"
    }
   ],
   "source": [
    "#Transforming all text to lower case\n",
    "data['selftext'] = data['selftext'].astype(str).str.lower()\n",
    "#data.head()\n",
    "\n",
    "#Tokenizing selftext\n",
    "tokenizer = RegexpTokenizer('\\w+')\n",
    "data['tokens'] = data['selftext'].apply(tokenizer.tokenize)\n",
    "#data.head()\n",
    "\n",
    "#Removning stop words using lambda\n",
    "data['tokens'] = data['tokens'].apply(lambda x: [item for item in x if item not in stop_words])\n",
    "#data.head()\n",
    "\n",
    "#Converting to a string and keeping longer than 2 chars\n",
    "data['tokens'] = data['tokens'].apply(lambda x: ' '.join([item for item in x if len(item) > 2]))\n",
    "#data.head()\n",
    "\n",
    "#Lemmatization of tokens\n",
    "lemmatizer = WordNetLemmatizer()\n",
    "data['lemmatized'] = data['tokens'].apply(lemmatizer.lemmatize)\n",
    "data.head()"
   ]
  },
  {
   "attachments": {},
   "cell_type": "markdown",
   "metadata": {},
   "source": [
    "#### Convert pandas dataframe to huggingface dataset"
   ]
  },
  {
   "cell_type": "code",
   "execution_count": 7,
   "metadata": {},
   "outputs": [],
   "source": [
    "tfcc_data = data.to_dict('list')\n",
    "    \n",
    "# Create a Hugging Face dataset from the dictionary\n",
    "dataset = Dataset.from_dict(tfcc_data)"
   ]
  },
  {
   "cell_type": "code",
   "execution_count": 8,
   "metadata": {},
   "outputs": [
    {
     "data": {
      "text/plain": [
       "Dataset({\n",
       "    features: ['id', 'title', 'selftext', 'author', 'score', 'num_comments', 'created_date', 'selftext_length', 'tokens', 'lemmatized'],\n",
       "    num_rows: 10129\n",
       "})"
      ]
     },
     "execution_count": 8,
     "metadata": {},
     "output_type": "execute_result"
    }
   ],
   "source": [
    "dataset"
   ]
  },
  {
   "attachments": {},
   "cell_type": "markdown",
   "metadata": {},
   "source": [
    "#### Create topic model with BERTopic.  This takes about 1 min on a laptop with 8 GB GPU, 32 GB RAM\n",
    "\n",
    "While the documentation for BERTopic indicates stop word removal and tokenization may not be necessary, I found better results when including these steps\n",
    "\n",
    "NOTE: when running the second time for the -1 topics, update diversity to 0.4"
   ]
  },
  {
   "cell_type": "code",
   "execution_count": 9,
   "metadata": {},
   "outputs": [],
   "source": [
    "sentence_model = SentenceTransformer(\"all-MiniLM-L12-v2\")\n",
    "embeddings = sentence_model.encode(dataset[\"lemmatized\"], show_progress_bar=False)\n",
    "representation_model = MaximalMarginalRelevance(diversity=0.4)\n",
    "model = BERTopic(embedding_model=sentence_model, representation_model=representation_model)\n",
    "topics, probs = model.fit_transform(dataset['lemmatized'])"
   ]
  },
  {
   "cell_type": "code",
   "execution_count": 10,
   "metadata": {},
   "outputs": [],
   "source": [
    "model.get_topic_info()\n",
    "\n",
    "details = model.get_topic_info()"
   ]
  },
  {
   "cell_type": "markdown",
   "metadata": {},
   "source": [
    "#### Update the dataframe to include the topic number for each submission"
   ]
  },
  {
   "cell_type": "code",
   "execution_count": 11,
   "metadata": {},
   "outputs": [],
   "source": [
    "data['topic'] = topics"
   ]
  },
  {
   "cell_type": "code",
   "execution_count": 12,
   "metadata": {},
   "outputs": [
    {
     "data": {
      "text/html": [
       "<div>\n",
       "<style scoped>\n",
       "    .dataframe tbody tr th:only-of-type {\n",
       "        vertical-align: middle;\n",
       "    }\n",
       "\n",
       "    .dataframe tbody tr th {\n",
       "        vertical-align: top;\n",
       "    }\n",
       "\n",
       "    .dataframe thead th {\n",
       "        text-align: right;\n",
       "    }\n",
       "</style>\n",
       "<table border=\"1\" class=\"dataframe\">\n",
       "  <thead>\n",
       "    <tr style=\"text-align: right;\">\n",
       "      <th></th>\n",
       "      <th>Topic</th>\n",
       "      <th>Count</th>\n",
       "      <th>Name</th>\n",
       "    </tr>\n",
       "  </thead>\n",
       "  <tbody>\n",
       "    <tr>\n",
       "      <th>0</th>\n",
       "      <td>-1</td>\n",
       "      <td>4561</td>\n",
       "      <td>-1_get_like_number_need</td>\n",
       "    </tr>\n",
       "    <tr>\n",
       "      <th>1</th>\n",
       "      <td>0</td>\n",
       "      <td>1048</td>\n",
       "      <td>0_tech_cable_internet_support</td>\n",
       "    </tr>\n",
       "    <tr>\n",
       "      <th>2</th>\n",
       "      <td>1</td>\n",
       "      <td>893</td>\n",
       "      <td>1_card_bank_payment_name</td>\n",
       "    </tr>\n",
       "    <tr>\n",
       "      <th>3</th>\n",
       "      <td>2</td>\n",
       "      <td>655</td>\n",
       "      <td>2_insurance_clinic_need_car</td>\n",
       "    </tr>\n",
       "    <tr>\n",
       "      <th>4</th>\n",
       "      <td>3</td>\n",
       "      <td>544</td>\n",
       "      <td>3_job_feel_working_training</td>\n",
       "    </tr>\n",
       "    <tr>\n",
       "      <th>...</th>\n",
       "      <td>...</td>\n",
       "      <td>...</td>\n",
       "      <td>...</td>\n",
       "    </tr>\n",
       "    <tr>\n",
       "      <th>57</th>\n",
       "      <td>56</td>\n",
       "      <td>10</td>\n",
       "      <td>56_withdraw_hardship_401k_payroll</td>\n",
       "    </tr>\n",
       "    <tr>\n",
       "      <th>58</th>\n",
       "      <td>57</td>\n",
       "      <td>10</td>\n",
       "      <td>57_shipping_express_haircut_pennies</td>\n",
       "    </tr>\n",
       "    <tr>\n",
       "      <th>59</th>\n",
       "      <td>58</td>\n",
       "      <td>10</td>\n",
       "      <td>58_email_consent_total_accountant</td>\n",
       "    </tr>\n",
       "    <tr>\n",
       "      <th>60</th>\n",
       "      <td>59</td>\n",
       "      <td>10</td>\n",
       "      <td>59_gooddad_dazb_replacement_prepaid</td>\n",
       "    </tr>\n",
       "    <tr>\n",
       "      <th>61</th>\n",
       "      <td>60</td>\n",
       "      <td>10</td>\n",
       "      <td>60_tickets_theater_refund_godsmack</td>\n",
       "    </tr>\n",
       "  </tbody>\n",
       "</table>\n",
       "<p>62 rows × 3 columns</p>\n",
       "</div>"
      ],
      "text/plain": [
       "    Topic  Count                                 Name\n",
       "0      -1   4561              -1_get_like_number_need\n",
       "1       0   1048        0_tech_cable_internet_support\n",
       "2       1    893             1_card_bank_payment_name\n",
       "3       2    655          2_insurance_clinic_need_car\n",
       "4       3    544          3_job_feel_working_training\n",
       "..    ...    ...                                  ...\n",
       "57     56     10    56_withdraw_hardship_401k_payroll\n",
       "58     57     10  57_shipping_express_haircut_pennies\n",
       "59     58     10    58_email_consent_total_accountant\n",
       "60     59     10  59_gooddad_dazb_replacement_prepaid\n",
       "61     60     10   60_tickets_theater_refund_godsmack\n",
       "\n",
       "[62 rows x 3 columns]"
      ]
     },
     "execution_count": 12,
     "metadata": {},
     "output_type": "execute_result"
    }
   ],
   "source": [
    "details"
   ]
  },
  {
   "attachments": {},
   "cell_type": "markdown",
   "metadata": {},
   "source": [
    "#### There are a high number of topic -1, which are basically submissions that fall into a general category.  We'll save these to a separate CSV to look at later"
   ]
  },
  {
   "cell_type": "code",
   "execution_count": 13,
   "metadata": {},
   "outputs": [],
   "source": [
    "neg1_topic = data.loc[(data['topic'] == -1)]\n",
    "neg1_topic.to_csv('tfcc_submissions_neg1_topics.csv', index=False)"
   ]
  },
  {
   "attachments": {},
   "cell_type": "markdown",
   "metadata": {},
   "source": [
    "#### Take a look at the top 20 topics"
   ]
  },
  {
   "cell_type": "code",
   "execution_count": 14,
   "metadata": {},
   "outputs": [
    {
     "data": {
      "application/vnd.plotly.v1+json": {
       "config": {
        "plotlyServerURL": "https://plot.ly"
       },
       "data": [
        {
         "marker": {
          "color": "#D55E00"
         },
         "orientation": "h",
         "type": "bar",
         "x": [
          0.010136298089563485,
          0.010975642023205355,
          0.011514132459352228,
          0.011529791139540531,
          0.012851714785523844
         ],
         "xaxis": "x",
         "y": [
          "service  ",
          "support  ",
          "internet  ",
          "cable  ",
          "tech  "
         ],
         "yaxis": "y"
        },
        {
         "marker": {
          "color": "#0072B2"
         },
         "orientation": "h",
         "type": "bar",
         "x": [
          0.009445257259980121,
          0.009823525586642448,
          0.012761545460945918,
          0.024769613353282063,
          0.03466692551882909
         ],
         "xaxis": "x2",
         "y": [
          "fraud  ",
          "name  ",
          "payment  ",
          "bank  ",
          "card  "
         ],
         "yaxis": "y2"
        },
        {
         "marker": {
          "color": "#CC79A7"
         },
         "orientation": "h",
         "type": "bar",
         "x": [
          0.008785351850057561,
          0.009444379490679868,
          0.009480023010630412,
          0.010061762022168625,
          0.030239342282548858
         ],
         "xaxis": "x3",
         "y": [
          "claims  ",
          "car  ",
          "need  ",
          "clinic  ",
          "insurance  "
         ],
         "yaxis": "y3"
        },
        {
         "marker": {
          "color": "#E69F00"
         },
         "orientation": "h",
         "type": "bar",
         "x": [
          0.0118400175239217,
          0.012329337312674759,
          0.012419439043993815,
          0.013075177767235503,
          0.029522179819091436
         ],
         "xaxis": "x4",
         "y": [
          "like  ",
          "training  ",
          "working  ",
          "feel  ",
          "job  "
         ],
         "yaxis": "y4"
        },
        {
         "marker": {
          "color": "#56B4E9"
         },
         "orientation": "h",
         "type": "bar",
         "x": [
          0.00819988860427253,
          0.01073318808168003,
          0.01193916042502134,
          0.01770275472539457,
          0.025700370806974536
         ],
         "xaxis": "x5",
         "y": [
          "address  ",
          "package  ",
          "orders  ",
          "store  ",
          "delivery  "
         ],
         "yaxis": "y5"
        },
        {
         "marker": {
          "color": "#009E73"
         },
         "orientation": "h",
         "type": "bar",
         "x": [
          0.010509199264436829,
          0.010646425771758223,
          0.0106654543445015,
          0.011142945946713046,
          0.039478233543544794
         ],
         "xaxis": "x6",
         "y": [
          "billing  ",
          "due  ",
          "payments  ",
          "meter  ",
          "bill  "
         ],
         "yaxis": "y6"
        },
        {
         "marker": {
          "color": "#F0E442"
         },
         "orientation": "h",
         "type": "bar",
         "x": [
          0.013911652017281305,
          0.02001037278269256,
          0.02532472466868247,
          0.0253392116897649,
          0.034294237683974896
         ],
         "xaxis": "x7",
         "y": [
          "garage  ",
          "assistance  ",
          "truck  ",
          "roadside  ",
          "tow  "
         ],
         "yaxis": "y7"
        },
        {
         "marker": {
          "color": "#D55E00"
         },
         "orientation": "h",
         "type": "bar",
         "x": [
          0.008823876163773187,
          0.009725234430166476,
          0.011000035622935809,
          0.011580340191094112,
          0.012185129106122003
         ],
         "xaxis": "x8",
         "y": [
          "talking  ",
          "voice  ",
          "say  ",
          "like  ",
          "people  "
         ],
         "yaxis": "y8"
        },
        {
         "marker": {
          "color": "#0072B2"
         },
         "orientation": "h",
         "type": "bar",
         "x": [
          0.015313844396110622,
          0.01807861407086319,
          0.01873213859776483,
          0.019205509359244994,
          0.025582784848801693
         ],
         "xaxis": "x9",
         "y": [
          "rooms  ",
          "booking  ",
          "hotels  ",
          "reservations  ",
          "guest  "
         ],
         "yaxis": "y9"
        },
        {
         "marker": {
          "color": "#CC79A7"
         },
         "orientation": "h",
         "type": "bar",
         "x": [
          0.01177696380132153,
          0.013115064326963547,
          0.01948981687585507,
          0.02160431281855739,
          0.045160212857685525
         ],
         "xaxis": "x10",
         "y": [
          "translator  ",
          "speaking  ",
          "language  ",
          "accent  ",
          "spanish  "
         ],
         "yaxis": "y10"
        },
        {
         "marker": {
          "color": "#E69F00"
         },
         "orientation": "h",
         "type": "bar",
         "x": [
          0.009117800356970612,
          0.010175852752765122,
          0.01148204432913244,
          0.012577917634432056,
          0.018714581464174967
         ],
         "xaxis": "x11",
         "y": [
          "need  ",
          "message  ",
          "customers  ",
          "email  ",
          "chats  "
         ],
         "yaxis": "y11"
        },
        {
         "marker": {
          "color": "#56B4E9"
         },
         "orientation": "h",
         "type": "bar",
         "x": [
          0.010504291277768706,
          0.014037137872142813,
          0.014102807458516352,
          0.015182392394069103,
          0.01577724544238821
         ],
         "xaxis": "x12",
         "y": [
          "okay  ",
          "get  ",
          "name  ",
          "need  ",
          "number  "
         ],
         "yaxis": "y12"
        },
        {
         "marker": {
          "color": "#009E73"
         },
         "orientation": "h",
         "type": "bar",
         "x": [
          0.016783037436666374,
          0.019183510692202692,
          0.023054609540022267,
          0.0257974376303341,
          0.060842938299410405
         ],
         "xaxis": "x13",
         "y": [
          "cancelled  ",
          "booking  ",
          "ticket  ",
          "flights  ",
          "airline  "
         ],
         "yaxis": "y13"
        },
        {
         "marker": {
          "color": "#F0E442"
         },
         "orientation": "h",
         "type": "bar",
         "x": [
          0.007762717625157345,
          0.008352831623361964,
          0.008420678270649264,
          0.008547686902177134,
          0.014062025452082008
         ],
         "xaxis": "x14",
         "y": [
          "old  ",
          "guy  ",
          "get  ",
          "favorite  ",
          "billie  "
         ],
         "yaxis": "y14"
        },
        {
         "marker": {
          "color": "#D55E00"
         },
         "orientation": "h",
         "type": "bar",
         "x": [
          0.011580095938877023,
          0.017190926658232984,
          0.021403073761778333,
          0.03210728882962462,
          0.038153323987320555
         ],
         "xaxis": "x15",
         "y": [
          "contract  ",
          "due  ",
          "payments  ",
          "collections  ",
          "debt  "
         ],
         "yaxis": "y15"
        },
        {
         "marker": {
          "color": "#0072B2"
         },
         "orientation": "h",
         "type": "bar",
         "x": [
          0.013451006400632758,
          0.014821522571745155,
          0.016961771722157223,
          0.018783605621823882,
          0.030217337820382027
         ],
         "xaxis": "x16",
         "y": [
          "donor  ",
          "aid  ",
          "admissions  ",
          "students  ",
          "university  "
         ],
         "yaxis": "y16"
        },
        {
         "marker": {
          "color": "#CC79A7"
         },
         "orientation": "h",
         "type": "bar",
         "x": [
          0.008421085281460594,
          0.010093269229548632,
          0.01113389091602845,
          0.019548329897166435,
          0.02978073486945403
         ],
         "xaxis": "x17",
         "y": [
          "sorry  ",
          "liz  ",
          "dick  ",
          "poster  ",
          "lurker  "
         ],
         "yaxis": "y17"
        },
        {
         "marker": {
          "color": "#E69F00"
         },
         "orientation": "h",
         "type": "bar",
         "x": [
          0.013635193221793473,
          0.015909909997801747,
          0.017025255481583505,
          0.02756184605669239,
          0.03541894441064049
         ],
         "xaxis": "x18",
         "y": [
          "common  ",
          "john  ",
          "phonetic  ",
          "spelling  ",
          "names  "
         ],
         "yaxis": "y18"
        },
        {
         "marker": {
          "color": "#56B4E9"
         },
         "orientation": "h",
         "type": "bar",
         "x": [
          0.014611219059824475,
          0.015304709298698945,
          0.01541052849302283,
          0.015800403242237446,
          0.07287680334608193
         ],
         "xaxis": "x19",
         "y": [
          "dad  ",
          "candy  ",
          "holidays  ",
          "gifts  ",
          "christmas  "
         ],
         "yaxis": "y19"
        },
        {
         "marker": {
          "color": "#009E73"
         },
         "orientation": "h",
         "type": "bar",
         "x": [
          0.011157816130882275,
          0.014530021308850343,
          0.015208751506117377,
          0.01940836952601382,
          0.023213174772996215
         ],
         "xaxis": "x20",
         "y": [
          "service  ",
          "ltl  ",
          "cabbage  ",
          "ftp  ",
          "tfcc  "
         ],
         "yaxis": "y20"
        }
       ],
       "layout": {
        "annotations": [
         {
          "font": {
           "size": 16
          },
          "showarrow": false,
          "text": "Topic 0",
          "x": 0.0875,
          "xanchor": "center",
          "xref": "paper",
          "y": 0.9999999999999999,
          "yanchor": "bottom",
          "yref": "paper"
         },
         {
          "font": {
           "size": 16
          },
          "showarrow": false,
          "text": "Topic 1",
          "x": 0.36250000000000004,
          "xanchor": "center",
          "xref": "paper",
          "y": 0.9999999999999999,
          "yanchor": "bottom",
          "yref": "paper"
         },
         {
          "font": {
           "size": 16
          },
          "showarrow": false,
          "text": "Topic 2",
          "x": 0.6375000000000001,
          "xanchor": "center",
          "xref": "paper",
          "y": 0.9999999999999999,
          "yanchor": "bottom",
          "yref": "paper"
         },
         {
          "font": {
           "size": 16
          },
          "showarrow": false,
          "text": "Topic 3",
          "x": 0.9125,
          "xanchor": "center",
          "xref": "paper",
          "y": 0.9999999999999999,
          "yanchor": "bottom",
          "yref": "paper"
         },
         {
          "font": {
           "size": 16
          },
          "showarrow": false,
          "text": "Topic 4",
          "x": 0.0875,
          "xanchor": "center",
          "xref": "paper",
          "y": 0.7839999999999999,
          "yanchor": "bottom",
          "yref": "paper"
         },
         {
          "font": {
           "size": 16
          },
          "showarrow": false,
          "text": "Topic 5",
          "x": 0.36250000000000004,
          "xanchor": "center",
          "xref": "paper",
          "y": 0.7839999999999999,
          "yanchor": "bottom",
          "yref": "paper"
         },
         {
          "font": {
           "size": 16
          },
          "showarrow": false,
          "text": "Topic 6",
          "x": 0.6375000000000001,
          "xanchor": "center",
          "xref": "paper",
          "y": 0.7839999999999999,
          "yanchor": "bottom",
          "yref": "paper"
         },
         {
          "font": {
           "size": 16
          },
          "showarrow": false,
          "text": "Topic 7",
          "x": 0.9125,
          "xanchor": "center",
          "xref": "paper",
          "y": 0.7839999999999999,
          "yanchor": "bottom",
          "yref": "paper"
         },
         {
          "font": {
           "size": 16
          },
          "showarrow": false,
          "text": "Topic 8",
          "x": 0.0875,
          "xanchor": "center",
          "xref": "paper",
          "y": 0.568,
          "yanchor": "bottom",
          "yref": "paper"
         },
         {
          "font": {
           "size": 16
          },
          "showarrow": false,
          "text": "Topic 9",
          "x": 0.36250000000000004,
          "xanchor": "center",
          "xref": "paper",
          "y": 0.568,
          "yanchor": "bottom",
          "yref": "paper"
         },
         {
          "font": {
           "size": 16
          },
          "showarrow": false,
          "text": "Topic 10",
          "x": 0.6375000000000001,
          "xanchor": "center",
          "xref": "paper",
          "y": 0.568,
          "yanchor": "bottom",
          "yref": "paper"
         },
         {
          "font": {
           "size": 16
          },
          "showarrow": false,
          "text": "Topic 11",
          "x": 0.9125,
          "xanchor": "center",
          "xref": "paper",
          "y": 0.568,
          "yanchor": "bottom",
          "yref": "paper"
         },
         {
          "font": {
           "size": 16
          },
          "showarrow": false,
          "text": "Topic 12",
          "x": 0.0875,
          "xanchor": "center",
          "xref": "paper",
          "y": 0.352,
          "yanchor": "bottom",
          "yref": "paper"
         },
         {
          "font": {
           "size": 16
          },
          "showarrow": false,
          "text": "Topic 13",
          "x": 0.36250000000000004,
          "xanchor": "center",
          "xref": "paper",
          "y": 0.352,
          "yanchor": "bottom",
          "yref": "paper"
         },
         {
          "font": {
           "size": 16
          },
          "showarrow": false,
          "text": "Topic 14",
          "x": 0.6375000000000001,
          "xanchor": "center",
          "xref": "paper",
          "y": 0.352,
          "yanchor": "bottom",
          "yref": "paper"
         },
         {
          "font": {
           "size": 16
          },
          "showarrow": false,
          "text": "Topic 15",
          "x": 0.9125,
          "xanchor": "center",
          "xref": "paper",
          "y": 0.352,
          "yanchor": "bottom",
          "yref": "paper"
         },
         {
          "font": {
           "size": 16
          },
          "showarrow": false,
          "text": "Topic 16",
          "x": 0.0875,
          "xanchor": "center",
          "xref": "paper",
          "y": 0.13599999999999998,
          "yanchor": "bottom",
          "yref": "paper"
         },
         {
          "font": {
           "size": 16
          },
          "showarrow": false,
          "text": "Topic 17",
          "x": 0.36250000000000004,
          "xanchor": "center",
          "xref": "paper",
          "y": 0.13599999999999998,
          "yanchor": "bottom",
          "yref": "paper"
         },
         {
          "font": {
           "size": 16
          },
          "showarrow": false,
          "text": "Topic 18",
          "x": 0.6375000000000001,
          "xanchor": "center",
          "xref": "paper",
          "y": 0.13599999999999998,
          "yanchor": "bottom",
          "yref": "paper"
         },
         {
          "font": {
           "size": 16
          },
          "showarrow": false,
          "text": "Topic 19",
          "x": 0.9125,
          "xanchor": "center",
          "xref": "paper",
          "y": 0.13599999999999998,
          "yanchor": "bottom",
          "yref": "paper"
         }
        ],
        "height": 1250,
        "hoverlabel": {
         "bgcolor": "white",
         "font": {
          "family": "Rockwell",
          "size": 16
         }
        },
        "showlegend": false,
        "template": {
         "data": {
          "bar": [
           {
            "error_x": {
             "color": "#2a3f5f"
            },
            "error_y": {
             "color": "#2a3f5f"
            },
            "marker": {
             "line": {
              "color": "white",
              "width": 0.5
             },
             "pattern": {
              "fillmode": "overlay",
              "size": 10,
              "solidity": 0.2
             }
            },
            "type": "bar"
           }
          ],
          "barpolar": [
           {
            "marker": {
             "line": {
              "color": "white",
              "width": 0.5
             },
             "pattern": {
              "fillmode": "overlay",
              "size": 10,
              "solidity": 0.2
             }
            },
            "type": "barpolar"
           }
          ],
          "carpet": [
           {
            "aaxis": {
             "endlinecolor": "#2a3f5f",
             "gridcolor": "#C8D4E3",
             "linecolor": "#C8D4E3",
             "minorgridcolor": "#C8D4E3",
             "startlinecolor": "#2a3f5f"
            },
            "baxis": {
             "endlinecolor": "#2a3f5f",
             "gridcolor": "#C8D4E3",
             "linecolor": "#C8D4E3",
             "minorgridcolor": "#C8D4E3",
             "startlinecolor": "#2a3f5f"
            },
            "type": "carpet"
           }
          ],
          "choropleth": [
           {
            "colorbar": {
             "outlinewidth": 0,
             "ticks": ""
            },
            "type": "choropleth"
           }
          ],
          "contour": [
           {
            "colorbar": {
             "outlinewidth": 0,
             "ticks": ""
            },
            "colorscale": [
             [
              0,
              "#0d0887"
             ],
             [
              0.1111111111111111,
              "#46039f"
             ],
             [
              0.2222222222222222,
              "#7201a8"
             ],
             [
              0.3333333333333333,
              "#9c179e"
             ],
             [
              0.4444444444444444,
              "#bd3786"
             ],
             [
              0.5555555555555556,
              "#d8576b"
             ],
             [
              0.6666666666666666,
              "#ed7953"
             ],
             [
              0.7777777777777778,
              "#fb9f3a"
             ],
             [
              0.8888888888888888,
              "#fdca26"
             ],
             [
              1,
              "#f0f921"
             ]
            ],
            "type": "contour"
           }
          ],
          "contourcarpet": [
           {
            "colorbar": {
             "outlinewidth": 0,
             "ticks": ""
            },
            "type": "contourcarpet"
           }
          ],
          "heatmap": [
           {
            "colorbar": {
             "outlinewidth": 0,
             "ticks": ""
            },
            "colorscale": [
             [
              0,
              "#0d0887"
             ],
             [
              0.1111111111111111,
              "#46039f"
             ],
             [
              0.2222222222222222,
              "#7201a8"
             ],
             [
              0.3333333333333333,
              "#9c179e"
             ],
             [
              0.4444444444444444,
              "#bd3786"
             ],
             [
              0.5555555555555556,
              "#d8576b"
             ],
             [
              0.6666666666666666,
              "#ed7953"
             ],
             [
              0.7777777777777778,
              "#fb9f3a"
             ],
             [
              0.8888888888888888,
              "#fdca26"
             ],
             [
              1,
              "#f0f921"
             ]
            ],
            "type": "heatmap"
           }
          ],
          "heatmapgl": [
           {
            "colorbar": {
             "outlinewidth": 0,
             "ticks": ""
            },
            "colorscale": [
             [
              0,
              "#0d0887"
             ],
             [
              0.1111111111111111,
              "#46039f"
             ],
             [
              0.2222222222222222,
              "#7201a8"
             ],
             [
              0.3333333333333333,
              "#9c179e"
             ],
             [
              0.4444444444444444,
              "#bd3786"
             ],
             [
              0.5555555555555556,
              "#d8576b"
             ],
             [
              0.6666666666666666,
              "#ed7953"
             ],
             [
              0.7777777777777778,
              "#fb9f3a"
             ],
             [
              0.8888888888888888,
              "#fdca26"
             ],
             [
              1,
              "#f0f921"
             ]
            ],
            "type": "heatmapgl"
           }
          ],
          "histogram": [
           {
            "marker": {
             "pattern": {
              "fillmode": "overlay",
              "size": 10,
              "solidity": 0.2
             }
            },
            "type": "histogram"
           }
          ],
          "histogram2d": [
           {
            "colorbar": {
             "outlinewidth": 0,
             "ticks": ""
            },
            "colorscale": [
             [
              0,
              "#0d0887"
             ],
             [
              0.1111111111111111,
              "#46039f"
             ],
             [
              0.2222222222222222,
              "#7201a8"
             ],
             [
              0.3333333333333333,
              "#9c179e"
             ],
             [
              0.4444444444444444,
              "#bd3786"
             ],
             [
              0.5555555555555556,
              "#d8576b"
             ],
             [
              0.6666666666666666,
              "#ed7953"
             ],
             [
              0.7777777777777778,
              "#fb9f3a"
             ],
             [
              0.8888888888888888,
              "#fdca26"
             ],
             [
              1,
              "#f0f921"
             ]
            ],
            "type": "histogram2d"
           }
          ],
          "histogram2dcontour": [
           {
            "colorbar": {
             "outlinewidth": 0,
             "ticks": ""
            },
            "colorscale": [
             [
              0,
              "#0d0887"
             ],
             [
              0.1111111111111111,
              "#46039f"
             ],
             [
              0.2222222222222222,
              "#7201a8"
             ],
             [
              0.3333333333333333,
              "#9c179e"
             ],
             [
              0.4444444444444444,
              "#bd3786"
             ],
             [
              0.5555555555555556,
              "#d8576b"
             ],
             [
              0.6666666666666666,
              "#ed7953"
             ],
             [
              0.7777777777777778,
              "#fb9f3a"
             ],
             [
              0.8888888888888888,
              "#fdca26"
             ],
             [
              1,
              "#f0f921"
             ]
            ],
            "type": "histogram2dcontour"
           }
          ],
          "mesh3d": [
           {
            "colorbar": {
             "outlinewidth": 0,
             "ticks": ""
            },
            "type": "mesh3d"
           }
          ],
          "parcoords": [
           {
            "line": {
             "colorbar": {
              "outlinewidth": 0,
              "ticks": ""
             }
            },
            "type": "parcoords"
           }
          ],
          "pie": [
           {
            "automargin": true,
            "type": "pie"
           }
          ],
          "scatter": [
           {
            "fillpattern": {
             "fillmode": "overlay",
             "size": 10,
             "solidity": 0.2
            },
            "type": "scatter"
           }
          ],
          "scatter3d": [
           {
            "line": {
             "colorbar": {
              "outlinewidth": 0,
              "ticks": ""
             }
            },
            "marker": {
             "colorbar": {
              "outlinewidth": 0,
              "ticks": ""
             }
            },
            "type": "scatter3d"
           }
          ],
          "scattercarpet": [
           {
            "marker": {
             "colorbar": {
              "outlinewidth": 0,
              "ticks": ""
             }
            },
            "type": "scattercarpet"
           }
          ],
          "scattergeo": [
           {
            "marker": {
             "colorbar": {
              "outlinewidth": 0,
              "ticks": ""
             }
            },
            "type": "scattergeo"
           }
          ],
          "scattergl": [
           {
            "marker": {
             "colorbar": {
              "outlinewidth": 0,
              "ticks": ""
             }
            },
            "type": "scattergl"
           }
          ],
          "scattermapbox": [
           {
            "marker": {
             "colorbar": {
              "outlinewidth": 0,
              "ticks": ""
             }
            },
            "type": "scattermapbox"
           }
          ],
          "scatterpolar": [
           {
            "marker": {
             "colorbar": {
              "outlinewidth": 0,
              "ticks": ""
             }
            },
            "type": "scatterpolar"
           }
          ],
          "scatterpolargl": [
           {
            "marker": {
             "colorbar": {
              "outlinewidth": 0,
              "ticks": ""
             }
            },
            "type": "scatterpolargl"
           }
          ],
          "scatterternary": [
           {
            "marker": {
             "colorbar": {
              "outlinewidth": 0,
              "ticks": ""
             }
            },
            "type": "scatterternary"
           }
          ],
          "surface": [
           {
            "colorbar": {
             "outlinewidth": 0,
             "ticks": ""
            },
            "colorscale": [
             [
              0,
              "#0d0887"
             ],
             [
              0.1111111111111111,
              "#46039f"
             ],
             [
              0.2222222222222222,
              "#7201a8"
             ],
             [
              0.3333333333333333,
              "#9c179e"
             ],
             [
              0.4444444444444444,
              "#bd3786"
             ],
             [
              0.5555555555555556,
              "#d8576b"
             ],
             [
              0.6666666666666666,
              "#ed7953"
             ],
             [
              0.7777777777777778,
              "#fb9f3a"
             ],
             [
              0.8888888888888888,
              "#fdca26"
             ],
             [
              1,
              "#f0f921"
             ]
            ],
            "type": "surface"
           }
          ],
          "table": [
           {
            "cells": {
             "fill": {
              "color": "#EBF0F8"
             },
             "line": {
              "color": "white"
             }
            },
            "header": {
             "fill": {
              "color": "#C8D4E3"
             },
             "line": {
              "color": "white"
             }
            },
            "type": "table"
           }
          ]
         },
         "layout": {
          "annotationdefaults": {
           "arrowcolor": "#2a3f5f",
           "arrowhead": 0,
           "arrowwidth": 1
          },
          "autotypenumbers": "strict",
          "coloraxis": {
           "colorbar": {
            "outlinewidth": 0,
            "ticks": ""
           }
          },
          "colorscale": {
           "diverging": [
            [
             0,
             "#8e0152"
            ],
            [
             0.1,
             "#c51b7d"
            ],
            [
             0.2,
             "#de77ae"
            ],
            [
             0.3,
             "#f1b6da"
            ],
            [
             0.4,
             "#fde0ef"
            ],
            [
             0.5,
             "#f7f7f7"
            ],
            [
             0.6,
             "#e6f5d0"
            ],
            [
             0.7,
             "#b8e186"
            ],
            [
             0.8,
             "#7fbc41"
            ],
            [
             0.9,
             "#4d9221"
            ],
            [
             1,
             "#276419"
            ]
           ],
           "sequential": [
            [
             0,
             "#0d0887"
            ],
            [
             0.1111111111111111,
             "#46039f"
            ],
            [
             0.2222222222222222,
             "#7201a8"
            ],
            [
             0.3333333333333333,
             "#9c179e"
            ],
            [
             0.4444444444444444,
             "#bd3786"
            ],
            [
             0.5555555555555556,
             "#d8576b"
            ],
            [
             0.6666666666666666,
             "#ed7953"
            ],
            [
             0.7777777777777778,
             "#fb9f3a"
            ],
            [
             0.8888888888888888,
             "#fdca26"
            ],
            [
             1,
             "#f0f921"
            ]
           ],
           "sequentialminus": [
            [
             0,
             "#0d0887"
            ],
            [
             0.1111111111111111,
             "#46039f"
            ],
            [
             0.2222222222222222,
             "#7201a8"
            ],
            [
             0.3333333333333333,
             "#9c179e"
            ],
            [
             0.4444444444444444,
             "#bd3786"
            ],
            [
             0.5555555555555556,
             "#d8576b"
            ],
            [
             0.6666666666666666,
             "#ed7953"
            ],
            [
             0.7777777777777778,
             "#fb9f3a"
            ],
            [
             0.8888888888888888,
             "#fdca26"
            ],
            [
             1,
             "#f0f921"
            ]
           ]
          },
          "colorway": [
           "#636efa",
           "#EF553B",
           "#00cc96",
           "#ab63fa",
           "#FFA15A",
           "#19d3f3",
           "#FF6692",
           "#B6E880",
           "#FF97FF",
           "#FECB52"
          ],
          "font": {
           "color": "#2a3f5f"
          },
          "geo": {
           "bgcolor": "white",
           "lakecolor": "white",
           "landcolor": "white",
           "showlakes": true,
           "showland": true,
           "subunitcolor": "#C8D4E3"
          },
          "hoverlabel": {
           "align": "left"
          },
          "hovermode": "closest",
          "mapbox": {
           "style": "light"
          },
          "paper_bgcolor": "white",
          "plot_bgcolor": "white",
          "polar": {
           "angularaxis": {
            "gridcolor": "#EBF0F8",
            "linecolor": "#EBF0F8",
            "ticks": ""
           },
           "bgcolor": "white",
           "radialaxis": {
            "gridcolor": "#EBF0F8",
            "linecolor": "#EBF0F8",
            "ticks": ""
           }
          },
          "scene": {
           "xaxis": {
            "backgroundcolor": "white",
            "gridcolor": "#DFE8F3",
            "gridwidth": 2,
            "linecolor": "#EBF0F8",
            "showbackground": true,
            "ticks": "",
            "zerolinecolor": "#EBF0F8"
           },
           "yaxis": {
            "backgroundcolor": "white",
            "gridcolor": "#DFE8F3",
            "gridwidth": 2,
            "linecolor": "#EBF0F8",
            "showbackground": true,
            "ticks": "",
            "zerolinecolor": "#EBF0F8"
           },
           "zaxis": {
            "backgroundcolor": "white",
            "gridcolor": "#DFE8F3",
            "gridwidth": 2,
            "linecolor": "#EBF0F8",
            "showbackground": true,
            "ticks": "",
            "zerolinecolor": "#EBF0F8"
           }
          },
          "shapedefaults": {
           "line": {
            "color": "#2a3f5f"
           }
          },
          "ternary": {
           "aaxis": {
            "gridcolor": "#DFE8F3",
            "linecolor": "#A2B1C6",
            "ticks": ""
           },
           "baxis": {
            "gridcolor": "#DFE8F3",
            "linecolor": "#A2B1C6",
            "ticks": ""
           },
           "bgcolor": "white",
           "caxis": {
            "gridcolor": "#DFE8F3",
            "linecolor": "#A2B1C6",
            "ticks": ""
           }
          },
          "title": {
           "x": 0.05
          },
          "xaxis": {
           "automargin": true,
           "gridcolor": "#EBF0F8",
           "linecolor": "#EBF0F8",
           "ticks": "",
           "title": {
            "standoff": 15
           },
           "zerolinecolor": "#EBF0F8",
           "zerolinewidth": 2
          },
          "yaxis": {
           "automargin": true,
           "gridcolor": "#EBF0F8",
           "linecolor": "#EBF0F8",
           "ticks": "",
           "title": {
            "standoff": 15
           },
           "zerolinecolor": "#EBF0F8",
           "zerolinewidth": 2
          }
         }
        },
        "title": {
         "font": {
          "color": "Black",
          "size": 22
         },
         "text": "Topic Word Scores",
         "x": 0.5,
         "xanchor": "center",
         "yanchor": "top"
        },
        "width": 1000,
        "xaxis": {
         "anchor": "y",
         "domain": [
          0,
          0.175
         ],
         "showgrid": true
        },
        "xaxis10": {
         "anchor": "y10",
         "domain": [
          0.275,
          0.45
         ],
         "showgrid": true
        },
        "xaxis11": {
         "anchor": "y11",
         "domain": [
          0.55,
          0.7250000000000001
         ],
         "showgrid": true
        },
        "xaxis12": {
         "anchor": "y12",
         "domain": [
          0.825,
          1
         ],
         "showgrid": true
        },
        "xaxis13": {
         "anchor": "y13",
         "domain": [
          0,
          0.175
         ],
         "showgrid": true
        },
        "xaxis14": {
         "anchor": "y14",
         "domain": [
          0.275,
          0.45
         ],
         "showgrid": true
        },
        "xaxis15": {
         "anchor": "y15",
         "domain": [
          0.55,
          0.7250000000000001
         ],
         "showgrid": true
        },
        "xaxis16": {
         "anchor": "y16",
         "domain": [
          0.825,
          1
         ],
         "showgrid": true
        },
        "xaxis17": {
         "anchor": "y17",
         "domain": [
          0,
          0.175
         ],
         "showgrid": true
        },
        "xaxis18": {
         "anchor": "y18",
         "domain": [
          0.275,
          0.45
         ],
         "showgrid": true
        },
        "xaxis19": {
         "anchor": "y19",
         "domain": [
          0.55,
          0.7250000000000001
         ],
         "showgrid": true
        },
        "xaxis2": {
         "anchor": "y2",
         "domain": [
          0.275,
          0.45
         ],
         "showgrid": true
        },
        "xaxis20": {
         "anchor": "y20",
         "domain": [
          0.825,
          1
         ],
         "showgrid": true
        },
        "xaxis3": {
         "anchor": "y3",
         "domain": [
          0.55,
          0.7250000000000001
         ],
         "showgrid": true
        },
        "xaxis4": {
         "anchor": "y4",
         "domain": [
          0.825,
          1
         ],
         "showgrid": true
        },
        "xaxis5": {
         "anchor": "y5",
         "domain": [
          0,
          0.175
         ],
         "showgrid": true
        },
        "xaxis6": {
         "anchor": "y6",
         "domain": [
          0.275,
          0.45
         ],
         "showgrid": true
        },
        "xaxis7": {
         "anchor": "y7",
         "domain": [
          0.55,
          0.7250000000000001
         ],
         "showgrid": true
        },
        "xaxis8": {
         "anchor": "y8",
         "domain": [
          0.825,
          1
         ],
         "showgrid": true
        },
        "xaxis9": {
         "anchor": "y9",
         "domain": [
          0,
          0.175
         ],
         "showgrid": true
        },
        "yaxis": {
         "anchor": "x",
         "domain": [
          0.8639999999999999,
          0.9999999999999999
         ],
         "showgrid": true
        },
        "yaxis10": {
         "anchor": "x10",
         "domain": [
          0.43199999999999994,
          0.568
         ],
         "showgrid": true
        },
        "yaxis11": {
         "anchor": "x11",
         "domain": [
          0.43199999999999994,
          0.568
         ],
         "showgrid": true
        },
        "yaxis12": {
         "anchor": "x12",
         "domain": [
          0.43199999999999994,
          0.568
         ],
         "showgrid": true
        },
        "yaxis13": {
         "anchor": "x13",
         "domain": [
          0.21599999999999997,
          0.352
         ],
         "showgrid": true
        },
        "yaxis14": {
         "anchor": "x14",
         "domain": [
          0.21599999999999997,
          0.352
         ],
         "showgrid": true
        },
        "yaxis15": {
         "anchor": "x15",
         "domain": [
          0.21599999999999997,
          0.352
         ],
         "showgrid": true
        },
        "yaxis16": {
         "anchor": "x16",
         "domain": [
          0.21599999999999997,
          0.352
         ],
         "showgrid": true
        },
        "yaxis17": {
         "anchor": "x17",
         "domain": [
          0,
          0.13599999999999998
         ],
         "showgrid": true
        },
        "yaxis18": {
         "anchor": "x18",
         "domain": [
          0,
          0.13599999999999998
         ],
         "showgrid": true
        },
        "yaxis19": {
         "anchor": "x19",
         "domain": [
          0,
          0.13599999999999998
         ],
         "showgrid": true
        },
        "yaxis2": {
         "anchor": "x2",
         "domain": [
          0.8639999999999999,
          0.9999999999999999
         ],
         "showgrid": true
        },
        "yaxis20": {
         "anchor": "x20",
         "domain": [
          0,
          0.13599999999999998
         ],
         "showgrid": true
        },
        "yaxis3": {
         "anchor": "x3",
         "domain": [
          0.8639999999999999,
          0.9999999999999999
         ],
         "showgrid": true
        },
        "yaxis4": {
         "anchor": "x4",
         "domain": [
          0.8639999999999999,
          0.9999999999999999
         ],
         "showgrid": true
        },
        "yaxis5": {
         "anchor": "x5",
         "domain": [
          0.6479999999999999,
          0.7839999999999999
         ],
         "showgrid": true
        },
        "yaxis6": {
         "anchor": "x6",
         "domain": [
          0.6479999999999999,
          0.7839999999999999
         ],
         "showgrid": true
        },
        "yaxis7": {
         "anchor": "x7",
         "domain": [
          0.6479999999999999,
          0.7839999999999999
         ],
         "showgrid": true
        },
        "yaxis8": {
         "anchor": "x8",
         "domain": [
          0.6479999999999999,
          0.7839999999999999
         ],
         "showgrid": true
        },
        "yaxis9": {
         "anchor": "x9",
         "domain": [
          0.43199999999999994,
          0.568
         ],
         "showgrid": true
        }
       }
      }
     },
     "metadata": {},
     "output_type": "display_data"
    }
   ],
   "source": [
    "model.visualize_barchart(top_n_topics=20, n_words=5)\n"
   ]
  },
  {
   "attachments": {},
   "cell_type": "markdown",
   "metadata": {},
   "source": [
    "### Filter dataset to only the topics of interest for analysis.  In this case we'll keep top 20 topics which are 0 - 19.  Tokens and Lemmatized columns are no longer required and are dropped."
   ]
  },
  {
   "cell_type": "code",
   "execution_count": 15,
   "metadata": {},
   "outputs": [],
   "source": [
    "data = data.drop(['tokens', 'lemmatized'], axis=1)\n"
   ]
  },
  {
   "cell_type": "code",
   "execution_count": 16,
   "metadata": {},
   "outputs": [],
   "source": [
    "data = data.loc[(data['topic'] >= 0) & (data['topic'] <= 19)]\n"
   ]
  },
  {
   "cell_type": "code",
   "execution_count": 17,
   "metadata": {},
   "outputs": [
    {
     "data": {
      "text/html": [
       "<div>\n",
       "<style scoped>\n",
       "    .dataframe tbody tr th:only-of-type {\n",
       "        vertical-align: middle;\n",
       "    }\n",
       "\n",
       "    .dataframe tbody tr th {\n",
       "        vertical-align: top;\n",
       "    }\n",
       "\n",
       "    .dataframe thead th {\n",
       "        text-align: right;\n",
       "    }\n",
       "</style>\n",
       "<table border=\"1\" class=\"dataframe\">\n",
       "  <thead>\n",
       "    <tr style=\"text-align: right;\">\n",
       "      <th></th>\n",
       "      <th>id</th>\n",
       "      <th>title</th>\n",
       "      <th>selftext</th>\n",
       "      <th>author</th>\n",
       "      <th>score</th>\n",
       "      <th>num_comments</th>\n",
       "      <th>created_date</th>\n",
       "      <th>selftext_length</th>\n",
       "      <th>topic</th>\n",
       "    </tr>\n",
       "  </thead>\n",
       "  <tbody>\n",
       "    <tr>\n",
       "      <th>1</th>\n",
       "      <td>yamv8</td>\n",
       "      <td>\"how fast does your modems go ?</td>\n",
       "      <td>starting off the awesome subreddit\\n\\ni used t...</td>\n",
       "      <td>[deleted]</td>\n",
       "      <td>34</td>\n",
       "      <td>4</td>\n",
       "      <td>2012-08-16 01:24:57</td>\n",
       "      <td>200</td>\n",
       "      <td>0</td>\n",
       "    </tr>\n",
       "    <tr>\n",
       "      <th>3</th>\n",
       "      <td>yicc4</td>\n",
       "      <td>Dishwasher blues</td>\n",
       "      <td>the stories i've heard amazes me but this one ...</td>\n",
       "      <td>[deleted]</td>\n",
       "      <td>31</td>\n",
       "      <td>15</td>\n",
       "      <td>2012-08-20 05:05:34</td>\n",
       "      <td>431</td>\n",
       "      <td>0</td>\n",
       "    </tr>\n",
       "    <tr>\n",
       "      <th>4</th>\n",
       "      <td>ymjc0</td>\n",
       "      <td>Tech support agent, and yet I can't touch my c...</td>\n",
       "      <td>at my work we are not allowed to adjust the mo...</td>\n",
       "      <td>hanzors</td>\n",
       "      <td>40</td>\n",
       "      <td>19</td>\n",
       "      <td>2012-08-22 06:27:29</td>\n",
       "      <td>104</td>\n",
       "      <td>0</td>\n",
       "    </tr>\n",
       "    <tr>\n",
       "      <th>5</th>\n",
       "      <td>yp5ab</td>\n",
       "      <td>Old guy likes to call cable company call cente...</td>\n",
       "      <td>i worked in the call center for a cable compan...</td>\n",
       "      <td>BananaVisit</td>\n",
       "      <td>48</td>\n",
       "      <td>9</td>\n",
       "      <td>2012-08-23 15:04:54</td>\n",
       "      <td>223</td>\n",
       "      <td>0</td>\n",
       "    </tr>\n",
       "    <tr>\n",
       "      <th>12</th>\n",
       "      <td>zgoxq</td>\n",
       "      <td>Hurricanes</td>\n",
       "      <td>i was working at an online christian bookstore...</td>\n",
       "      <td>Ashleyrah</td>\n",
       "      <td>39</td>\n",
       "      <td>2</td>\n",
       "      <td>2012-09-06 19:11:23</td>\n",
       "      <td>154</td>\n",
       "      <td>4</td>\n",
       "    </tr>\n",
       "    <tr>\n",
       "      <th>...</th>\n",
       "      <td>...</td>\n",
       "      <td>...</td>\n",
       "      <td>...</td>\n",
       "      <td>...</td>\n",
       "      <td>...</td>\n",
       "      <td>...</td>\n",
       "      <td>...</td>\n",
       "      <td>...</td>\n",
       "      <td>...</td>\n",
       "    </tr>\n",
       "    <tr>\n",
       "      <th>10121</th>\n",
       "      <td>zwnowo</td>\n",
       "      <td>Why is it so difficult to figure out for custo...</td>\n",
       "      <td>i work for a utility company.  i had a call ea...</td>\n",
       "      <td>gameofthrones_addict</td>\n",
       "      <td>57</td>\n",
       "      <td>16</td>\n",
       "      <td>2022-12-27 19:25:20</td>\n",
       "      <td>255</td>\n",
       "      <td>5</td>\n",
       "    </tr>\n",
       "    <tr>\n",
       "      <th>10122</th>\n",
       "      <td>zwohz7</td>\n",
       "      <td>Something I've been thinking about...</td>\n",
       "      <td>does anyone else think that if these call cent...</td>\n",
       "      <td>ghostof_lisasbabytoe</td>\n",
       "      <td>22</td>\n",
       "      <td>12</td>\n",
       "      <td>2022-12-27 19:58:39</td>\n",
       "      <td>225</td>\n",
       "      <td>3</td>\n",
       "    </tr>\n",
       "    <tr>\n",
       "      <th>10125</th>\n",
       "      <td>zxn7bt</td>\n",
       "      <td>Call Totals Giving me Anxiety</td>\n",
       "      <td>does anyone else have to make a certain amount...</td>\n",
       "      <td>BatBitch1016</td>\n",
       "      <td>45</td>\n",
       "      <td>7</td>\n",
       "      <td>2022-12-28 22:31:50</td>\n",
       "      <td>165</td>\n",
       "      <td>3</td>\n",
       "    </tr>\n",
       "    <tr>\n",
       "      <th>10126</th>\n",
       "      <td>zz7684</td>\n",
       "      <td>kudos to you guys, I don't know how you do it.</td>\n",
       "      <td>i worked in retail for 7 years, recently took ...</td>\n",
       "      <td>Fact0ry0fSadness</td>\n",
       "      <td>211</td>\n",
       "      <td>54</td>\n",
       "      <td>2022-12-30 18:07:48</td>\n",
       "      <td>198</td>\n",
       "      <td>3</td>\n",
       "    </tr>\n",
       "    <tr>\n",
       "      <th>10127</th>\n",
       "      <td>zz8ztg</td>\n",
       "      <td>When will they learn?</td>\n",
       "      <td>(work emergency roadside assistance as a dispa...</td>\n",
       "      <td>HogwartsAlumni25</td>\n",
       "      <td>30</td>\n",
       "      <td>11</td>\n",
       "      <td>2022-12-30 19:22:58</td>\n",
       "      <td>592</td>\n",
       "      <td>6</td>\n",
       "    </tr>\n",
       "  </tbody>\n",
       "</table>\n",
       "<p>4737 rows × 9 columns</p>\n",
       "</div>"
      ],
      "text/plain": [
       "           id                                              title  \\\n",
       "1       yamv8                    \"how fast does your modems go ?   \n",
       "3       yicc4                                   Dishwasher blues   \n",
       "4       ymjc0  Tech support agent, and yet I can't touch my c...   \n",
       "5       yp5ab  Old guy likes to call cable company call cente...   \n",
       "12      zgoxq                                         Hurricanes   \n",
       "...       ...                                                ...   \n",
       "10121  zwnowo  Why is it so difficult to figure out for custo...   \n",
       "10122  zwohz7              Something I've been thinking about...   \n",
       "10125  zxn7bt                      Call Totals Giving me Anxiety   \n",
       "10126  zz7684     kudos to you guys, I don't know how you do it.   \n",
       "10127  zz8ztg                              When will they learn?   \n",
       "\n",
       "                                                selftext  \\\n",
       "1      starting off the awesome subreddit\\n\\ni used t...   \n",
       "3      the stories i've heard amazes me but this one ...   \n",
       "4      at my work we are not allowed to adjust the mo...   \n",
       "5      i worked in the call center for a cable compan...   \n",
       "12     i was working at an online christian bookstore...   \n",
       "...                                                  ...   \n",
       "10121  i work for a utility company.  i had a call ea...   \n",
       "10122  does anyone else think that if these call cent...   \n",
       "10125  does anyone else have to make a certain amount...   \n",
       "10126  i worked in retail for 7 years, recently took ...   \n",
       "10127  (work emergency roadside assistance as a dispa...   \n",
       "\n",
       "                     author  score  num_comments         created_date  \\\n",
       "1                 [deleted]     34             4  2012-08-16 01:24:57   \n",
       "3                 [deleted]     31            15  2012-08-20 05:05:34   \n",
       "4                   hanzors     40            19  2012-08-22 06:27:29   \n",
       "5               BananaVisit     48             9  2012-08-23 15:04:54   \n",
       "12                Ashleyrah     39             2  2012-09-06 19:11:23   \n",
       "...                     ...    ...           ...                  ...   \n",
       "10121  gameofthrones_addict     57            16  2022-12-27 19:25:20   \n",
       "10122  ghostof_lisasbabytoe     22            12  2022-12-27 19:58:39   \n",
       "10125          BatBitch1016     45             7  2022-12-28 22:31:50   \n",
       "10126      Fact0ry0fSadness    211            54  2022-12-30 18:07:48   \n",
       "10127      HogwartsAlumni25     30            11  2022-12-30 19:22:58   \n",
       "\n",
       "       selftext_length  topic  \n",
       "1                  200      0  \n",
       "3                  431      0  \n",
       "4                  104      0  \n",
       "5                  223      0  \n",
       "12                 154      4  \n",
       "...                ...    ...  \n",
       "10121              255      5  \n",
       "10122              225      3  \n",
       "10125              165      3  \n",
       "10126              198      3  \n",
       "10127              592      6  \n",
       "\n",
       "[4737 rows x 9 columns]"
      ]
     },
     "execution_count": 17,
     "metadata": {},
     "output_type": "execute_result"
    }
   ],
   "source": [
    "data"
   ]
  },
  {
   "attachments": {},
   "cell_type": "markdown",
   "metadata": {},
   "source": [
    "### The submission counts for the topics"
   ]
  },
  {
   "cell_type": "code",
   "execution_count": 18,
   "metadata": {},
   "outputs": [
    {
     "data": {
      "text/html": [
       "<div>\n",
       "<style scoped>\n",
       "    .dataframe tbody tr th:only-of-type {\n",
       "        vertical-align: middle;\n",
       "    }\n",
       "\n",
       "    .dataframe tbody tr th {\n",
       "        vertical-align: top;\n",
       "    }\n",
       "\n",
       "    .dataframe thead th {\n",
       "        text-align: right;\n",
       "    }\n",
       "</style>\n",
       "<table border=\"1\" class=\"dataframe\">\n",
       "  <thead>\n",
       "    <tr style=\"text-align: right;\">\n",
       "      <th></th>\n",
       "      <th>Topic</th>\n",
       "      <th>Count</th>\n",
       "      <th>Name</th>\n",
       "    </tr>\n",
       "  </thead>\n",
       "  <tbody>\n",
       "    <tr>\n",
       "      <th>0</th>\n",
       "      <td>-1</td>\n",
       "      <td>4561</td>\n",
       "      <td>-1_get_like_number_need</td>\n",
       "    </tr>\n",
       "    <tr>\n",
       "      <th>1</th>\n",
       "      <td>0</td>\n",
       "      <td>1048</td>\n",
       "      <td>0_tech_cable_internet_support</td>\n",
       "    </tr>\n",
       "    <tr>\n",
       "      <th>2</th>\n",
       "      <td>1</td>\n",
       "      <td>893</td>\n",
       "      <td>1_card_bank_payment_name</td>\n",
       "    </tr>\n",
       "    <tr>\n",
       "      <th>3</th>\n",
       "      <td>2</td>\n",
       "      <td>655</td>\n",
       "      <td>2_insurance_clinic_need_car</td>\n",
       "    </tr>\n",
       "    <tr>\n",
       "      <th>4</th>\n",
       "      <td>3</td>\n",
       "      <td>544</td>\n",
       "      <td>3_job_feel_working_training</td>\n",
       "    </tr>\n",
       "    <tr>\n",
       "      <th>5</th>\n",
       "      <td>4</td>\n",
       "      <td>268</td>\n",
       "      <td>4_delivery_store_orders_package</td>\n",
       "    </tr>\n",
       "    <tr>\n",
       "      <th>6</th>\n",
       "      <td>5</td>\n",
       "      <td>244</td>\n",
       "      <td>5_bill_meter_payments_due</td>\n",
       "    </tr>\n",
       "    <tr>\n",
       "      <th>7</th>\n",
       "      <td>6</td>\n",
       "      <td>144</td>\n",
       "      <td>6_tow_roadside_truck_assistance</td>\n",
       "    </tr>\n",
       "    <tr>\n",
       "      <th>8</th>\n",
       "      <td>7</td>\n",
       "      <td>143</td>\n",
       "      <td>7_people_like_say_voice</td>\n",
       "    </tr>\n",
       "    <tr>\n",
       "      <th>9</th>\n",
       "      <td>8</td>\n",
       "      <td>102</td>\n",
       "      <td>8_guest_reservations_hotels_booking</td>\n",
       "    </tr>\n",
       "    <tr>\n",
       "      <th>10</th>\n",
       "      <td>9</td>\n",
       "      <td>99</td>\n",
       "      <td>9_spanish_accent_language_speaking</td>\n",
       "    </tr>\n",
       "    <tr>\n",
       "      <th>11</th>\n",
       "      <td>10</td>\n",
       "      <td>88</td>\n",
       "      <td>10_chats_email_customers_message</td>\n",
       "    </tr>\n",
       "    <tr>\n",
       "      <th>12</th>\n",
       "      <td>11</td>\n",
       "      <td>74</td>\n",
       "      <td>11_number_need_name_get</td>\n",
       "    </tr>\n",
       "    <tr>\n",
       "      <th>13</th>\n",
       "      <td>12</td>\n",
       "      <td>67</td>\n",
       "      <td>12_airline_flights_ticket_booking</td>\n",
       "    </tr>\n",
       "    <tr>\n",
       "      <th>14</th>\n",
       "      <td>13</td>\n",
       "      <td>66</td>\n",
       "      <td>13_billie_favorite_get_guy</td>\n",
       "    </tr>\n",
       "    <tr>\n",
       "      <th>15</th>\n",
       "      <td>14</td>\n",
       "      <td>65</td>\n",
       "      <td>14_debt_collections_payments_due</td>\n",
       "    </tr>\n",
       "    <tr>\n",
       "      <th>16</th>\n",
       "      <td>15</td>\n",
       "      <td>63</td>\n",
       "      <td>15_university_students_admissions_aid</td>\n",
       "    </tr>\n",
       "    <tr>\n",
       "      <th>17</th>\n",
       "      <td>16</td>\n",
       "      <td>47</td>\n",
       "      <td>16_lurker_poster_dick_liz</td>\n",
       "    </tr>\n",
       "    <tr>\n",
       "      <th>18</th>\n",
       "      <td>17</td>\n",
       "      <td>43</td>\n",
       "      <td>17_names_spelling_phonetic_john</td>\n",
       "    </tr>\n",
       "    <tr>\n",
       "      <th>19</th>\n",
       "      <td>18</td>\n",
       "      <td>43</td>\n",
       "      <td>18_christmas_gifts_holidays_candy</td>\n",
       "    </tr>\n",
       "  </tbody>\n",
       "</table>\n",
       "</div>"
      ],
      "text/plain": [
       "    Topic  Count                                   Name\n",
       "0      -1   4561                -1_get_like_number_need\n",
       "1       0   1048          0_tech_cable_internet_support\n",
       "2       1    893               1_card_bank_payment_name\n",
       "3       2    655            2_insurance_clinic_need_car\n",
       "4       3    544            3_job_feel_working_training\n",
       "5       4    268        4_delivery_store_orders_package\n",
       "6       5    244              5_bill_meter_payments_due\n",
       "7       6    144        6_tow_roadside_truck_assistance\n",
       "8       7    143                7_people_like_say_voice\n",
       "9       8    102    8_guest_reservations_hotels_booking\n",
       "10      9     99     9_spanish_accent_language_speaking\n",
       "11     10     88       10_chats_email_customers_message\n",
       "12     11     74                11_number_need_name_get\n",
       "13     12     67      12_airline_flights_ticket_booking\n",
       "14     13     66             13_billie_favorite_get_guy\n",
       "15     14     65       14_debt_collections_payments_due\n",
       "16     15     63  15_university_students_admissions_aid\n",
       "17     16     47              16_lurker_poster_dick_liz\n",
       "18     17     43        17_names_spelling_phonetic_john\n",
       "19     18     43      18_christmas_gifts_holidays_candy"
      ]
     },
     "execution_count": 18,
     "metadata": {},
     "output_type": "execute_result"
    }
   ],
   "source": [
    "details.head(20)"
   ]
  },
  {
   "attachments": {},
   "cell_type": "markdown",
   "metadata": {},
   "source": [
    "#### Export the filtered dataset and the topic counts for the top 20 topics."
   ]
  },
  {
   "cell_type": "code",
   "execution_count": 19,
   "metadata": {},
   "outputs": [],
   "source": [
    "details.to_csv('tfcc_submissions_topic_counts.csv', index=False)"
   ]
  },
  {
   "cell_type": "code",
   "execution_count": 20,
   "metadata": {},
   "outputs": [],
   "source": [
    "data.to_csv('tfcc_submissions_selected_topics.csv', index=False)"
   ]
  },
  {
   "attachments": {},
   "cell_type": "markdown",
   "metadata": {},
   "source": [
    "#### Run from top again on the -1 topics from first pass"
   ]
  },
  {
   "cell_type": "markdown",
   "metadata": {},
   "source": []
  }
 ],
 "metadata": {
  "kernelspec": {
   "display_name": "bertopic",
   "language": "python",
   "name": "python3"
  },
  "language_info": {
   "codemirror_mode": {
    "name": "ipython",
    "version": 3
   },
   "file_extension": ".py",
   "mimetype": "text/x-python",
   "name": "python",
   "nbconvert_exporter": "python",
   "pygments_lexer": "ipython3",
   "version": "3.10.6"
  },
  "orig_nbformat": 4,
  "vscode": {
   "interpreter": {
    "hash": "67cfafb2966ad38f021c3760fdc7d3abae7cbc8d411c26a5ddb66b3636203364"
   }
  }
 },
 "nbformat": 4,
 "nbformat_minor": 2
}
